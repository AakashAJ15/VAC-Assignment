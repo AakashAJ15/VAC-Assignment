{
  "nbformat": 4,
  "nbformat_minor": 0,
  "metadata": {
    "colab": {
      "provenance": []
    },
    "kernelspec": {
      "name": "ir",
      "display_name": "R"
    },
    "language_info": {
      "name": "R"
    },
    "gpuClass": "standard"
  },
  "cells": [
    {
      "cell_type": "code",
      "execution_count": 62,
      "metadata": {
        "colab": {
          "base_uri": "https://localhost:8080/"
        },
        "id": "3-Zt1cuT2dgs",
        "outputId": "69333808-d9eb-423a-fef1-37f25479d326"
      },
      "outputs": [
        {
          "output_type": "stream",
          "name": "stderr",
          "text": [
            "Installing package into ‘/usr/local/lib/R/site-library’\n",
            "(as ‘lib’ is unspecified)\n",
            "\n",
            "Installing package into ‘/usr/local/lib/R/site-library’\n",
            "(as ‘lib’ is unspecified)\n",
            "\n"
          ]
        }
      ],
      "source": [
        "install.packages(\"rvest\")\n",
        "install.packages(\"robotstxt\")"
      ]
    },
    {
      "cell_type": "code",
      "source": [
        "library(robotstxt)\n",
        "library(rvest)"
      ],
      "metadata": {
        "id": "Bv3JBfQ03s20"
      },
      "execution_count": 63,
      "outputs": []
    },
    {
      "cell_type": "code",
      "source": [
        "url <- \"https://www.1mg.com/categories/diabetes/diabetic-medicines-583\"\n",
        "path = paths_allowed(url)"
      ],
      "metadata": {
        "colab": {
          "base_uri": "https://localhost:8080/"
        },
        "id": "-r8KiZuQ4fWK",
        "outputId": "9ec22996-d82a-4d26-8795-8d2fb00020a5"
      },
      "execution_count": 64,
      "outputs": [
        {
          "output_type": "stream",
          "name": "stderr",
          "text": [
            "\r www.1mg.com                      \n",
            "\n",
            "\n",
            "\n"
          ]
        }
      ]
    },
    {
      "cell_type": "code",
      "source": [
        "web <- read_html(url)"
      ],
      "metadata": {
        "id": "8MOyy_YR4fn_"
      },
      "execution_count": 65,
      "outputs": []
    },
    {
      "cell_type": "code",
      "source": [
        "name <- web %>%html_nodes(\".style__pro-title___2QwJy\")%>% html_text()\n",
        "name"
      ],
      "metadata": {
        "colab": {
          "base_uri": "https://localhost:8080/",
          "height": 208
        },
        "id": "BQL0pErgBu0r",
        "outputId": "cb9c8ea0-1e6d-4fa1-d797-9569fc26136f"
      },
      "execution_count": 66,
      "outputs": [
        {
          "output_type": "display_data",
          "data": {
            "text/html": [
              "<style>\n",
              ".list-inline {list-style: none; margin:0; padding: 0}\n",
              ".list-inline>li {display: inline-block}\n",
              ".list-inline>li:not(:last-child)::after {content: \"\\00b7\"; padding: 0 .5ex}\n",
              "</style>\n",
              "<ol class=list-inline><li>'Bgr 34 Tablet'</li><li>'Dr. Reckeweg R40 Diabetes Drop Homeopathic Medicine'</li><li>'Dabur Vasant Kusumakar Ras with Gold &amp; Pearl Tablet'</li><li>'SBL Syzygium Jambolanum Mother Tincture Q'</li><li>'Dhootapapeshwar Madhumeha Kusumakar Rasa'</li><li>'Sugar Free Green Stevia Pellets'</li><li>'Dabur Vasant Kusumakar Ras with Gold &amp; Pearl Tablet'</li><li>'IME 9 Tablet'</li><li>'Dabur GlycoDab Tablet'</li><li>'SBL Dibonil Drop'</li><li>'Baidyanath Mahayograj Guggulu Tablet'</li><li>'Himalaya Diabecon Tablet'</li><li>'SBL Gymnema Sylvestre Mother Tincture Q'</li><li>'SBL Diaboherb Capsule'</li><li>'Dabur Vasant Kusumakar Ras with Gold &amp; Pearl Tablet'</li><li>'Baidyanath Mahayograj Guggulu Tablet'</li><li>'Baidyanath Laxmivilas Ras Tablet'</li><li>'So Sweet Stevia Sugar Free Tablet'</li><li>'Baidyanath Madhumehari Controls Blood Glucose Levels Naturally'</li><li>'ADEL 18 Glucorect Drop'</li><li>'SBL Cephalandra Indica Mother Tincture Q'</li><li>'Dabur Vasant Kusumakar Ras with Gold &amp; Pearl Tablet'</li><li>'Dabur GlycoDab Tablet'</li><li>'Dabur Vasant Kusumakar Ras with Gold &amp; Pearl Tablet'</li><li>'Dr. Reckeweg Syzygium Jamb Mother Tincture Q'</li><li>'Sri Sri Tattva Nishamalaki Tablet'</li><li>'Baidyanath Laxmivilas Ras Tablet'</li><li>'Bjain Syzygium Jambolanum Mother Tincture Q'</li><li>'Dhootapapeshwar Shilapravang (with Mouktik) Tablet'</li><li>'Berbeshine Tablet'</li><li>'Baidyanath Sariwadi Bati'</li><li>'SBL Dibonil Tablet'</li><li>'Dr Willmar Schwabe India Syzygium Jambolanum Trituration Tablet 1X'</li><li>'SBL Abroma Augusta Mother Tincture Q'</li><li>'Baidyanath Basant Kusumakar Ras (S.C.M.Yu) with Gold, Silver &amp; Pearl Maintains Blood Glucose Level'</li><li>'Dabur Madhu Rakshak'</li><li>'SBL Bio-Combination 7 Tablet'</li><li>'Bakson\\'s Diab Aid Drop'</li><li>'SBL Ceanothus Americanus Mother Tincture Q'</li><li>'Himalaya Koflet-SF Linctus'</li><li>'Baidyanath Madhumehari Controls Blood Glucose Levels Naturally'</li><li>'Alma Sugar Free Tablet Low Calorie Sweetener'</li><li>'Jain Ashwagandha (Withania Somnifera) 850mg Tablet'</li><li>'ADEL Acid Phos Mother Tincture Q'</li><li>'So Sweet Stevia Sugar Free Tablet'</li><li>'Dr. Reckeweg Bio-Combination 7 (BC 7) Tablet'</li><li>'Dr Willmar Schwabe India Uranium Nitricum Trituration Tablet 4X'</li><li>'Dr. Reckeweg Gymnema Syl Mother Tincture Q'</li><li>'Dr. Reckeweg Diabetic Care Combo (R40 + Syzygium Jamb Mother Tincture)'</li></ol>\n"
            ],
            "text/markdown": "1. 'Bgr 34 Tablet'\n2. 'Dr. Reckeweg R40 Diabetes Drop Homeopathic Medicine'\n3. 'Dabur Vasant Kusumakar Ras with Gold &amp; Pearl Tablet'\n4. 'SBL Syzygium Jambolanum Mother Tincture Q'\n5. 'Dhootapapeshwar Madhumeha Kusumakar Rasa'\n6. 'Sugar Free Green Stevia Pellets'\n7. 'Dabur Vasant Kusumakar Ras with Gold &amp; Pearl Tablet'\n8. 'IME 9 Tablet'\n9. 'Dabur GlycoDab Tablet'\n10. 'SBL Dibonil Drop'\n11. 'Baidyanath Mahayograj Guggulu Tablet'\n12. 'Himalaya Diabecon Tablet'\n13. 'SBL Gymnema Sylvestre Mother Tincture Q'\n14. 'SBL Diaboherb Capsule'\n15. 'Dabur Vasant Kusumakar Ras with Gold &amp; Pearl Tablet'\n16. 'Baidyanath Mahayograj Guggulu Tablet'\n17. 'Baidyanath Laxmivilas Ras Tablet'\n18. 'So Sweet Stevia Sugar Free Tablet'\n19. 'Baidyanath Madhumehari Controls Blood Glucose Levels Naturally'\n20. 'ADEL 18 Glucorect Drop'\n21. 'SBL Cephalandra Indica Mother Tincture Q'\n22. 'Dabur Vasant Kusumakar Ras with Gold &amp; Pearl Tablet'\n23. 'Dabur GlycoDab Tablet'\n24. 'Dabur Vasant Kusumakar Ras with Gold &amp; Pearl Tablet'\n25. 'Dr. Reckeweg Syzygium Jamb Mother Tincture Q'\n26. 'Sri Sri Tattva Nishamalaki Tablet'\n27. 'Baidyanath Laxmivilas Ras Tablet'\n28. 'Bjain Syzygium Jambolanum Mother Tincture Q'\n29. 'Dhootapapeshwar Shilapravang (with Mouktik) Tablet'\n30. 'Berbeshine Tablet'\n31. 'Baidyanath Sariwadi Bati'\n32. 'SBL Dibonil Tablet'\n33. 'Dr Willmar Schwabe India Syzygium Jambolanum Trituration Tablet 1X'\n34. 'SBL Abroma Augusta Mother Tincture Q'\n35. 'Baidyanath Basant Kusumakar Ras (S.C.M.Yu) with Gold, Silver &amp; Pearl Maintains Blood Glucose Level'\n36. 'Dabur Madhu Rakshak'\n37. 'SBL Bio-Combination 7 Tablet'\n38. 'Bakson\\'s Diab Aid Drop'\n39. 'SBL Ceanothus Americanus Mother Tincture Q'\n40. 'Himalaya Koflet-SF Linctus'\n41. 'Baidyanath Madhumehari Controls Blood Glucose Levels Naturally'\n42. 'Alma Sugar Free Tablet Low Calorie Sweetener'\n43. 'Jain Ashwagandha (Withania Somnifera) 850mg Tablet'\n44. 'ADEL Acid Phos Mother Tincture Q'\n45. 'So Sweet Stevia Sugar Free Tablet'\n46. 'Dr. Reckeweg Bio-Combination 7 (BC 7) Tablet'\n47. 'Dr Willmar Schwabe India Uranium Nitricum Trituration Tablet 4X'\n48. 'Dr. Reckeweg Gymnema Syl Mother Tincture Q'\n49. 'Dr. Reckeweg Diabetic Care Combo (R40 + Syzygium Jamb Mother Tincture)'\n\n\n",
            "text/latex": "\\begin{enumerate*}\n\\item 'Bgr 34 Tablet'\n\\item 'Dr. Reckeweg R40 Diabetes Drop Homeopathic Medicine'\n\\item 'Dabur Vasant Kusumakar Ras with Gold \\& Pearl Tablet'\n\\item 'SBL Syzygium Jambolanum Mother Tincture Q'\n\\item 'Dhootapapeshwar Madhumeha Kusumakar Rasa'\n\\item 'Sugar Free Green Stevia Pellets'\n\\item 'Dabur Vasant Kusumakar Ras with Gold \\& Pearl Tablet'\n\\item 'IME 9 Tablet'\n\\item 'Dabur GlycoDab Tablet'\n\\item 'SBL Dibonil Drop'\n\\item 'Baidyanath Mahayograj Guggulu Tablet'\n\\item 'Himalaya Diabecon Tablet'\n\\item 'SBL Gymnema Sylvestre Mother Tincture Q'\n\\item 'SBL Diaboherb Capsule'\n\\item 'Dabur Vasant Kusumakar Ras with Gold \\& Pearl Tablet'\n\\item 'Baidyanath Mahayograj Guggulu Tablet'\n\\item 'Baidyanath Laxmivilas Ras Tablet'\n\\item 'So Sweet Stevia Sugar Free Tablet'\n\\item 'Baidyanath Madhumehari Controls Blood Glucose Levels Naturally'\n\\item 'ADEL 18 Glucorect Drop'\n\\item 'SBL Cephalandra Indica Mother Tincture Q'\n\\item 'Dabur Vasant Kusumakar Ras with Gold \\& Pearl Tablet'\n\\item 'Dabur GlycoDab Tablet'\n\\item 'Dabur Vasant Kusumakar Ras with Gold \\& Pearl Tablet'\n\\item 'Dr. Reckeweg Syzygium Jamb Mother Tincture Q'\n\\item 'Sri Sri Tattva Nishamalaki Tablet'\n\\item 'Baidyanath Laxmivilas Ras Tablet'\n\\item 'Bjain Syzygium Jambolanum Mother Tincture Q'\n\\item 'Dhootapapeshwar Shilapravang (with Mouktik) Tablet'\n\\item 'Berbeshine Tablet'\n\\item 'Baidyanath Sariwadi Bati'\n\\item 'SBL Dibonil Tablet'\n\\item 'Dr Willmar Schwabe India Syzygium Jambolanum Trituration Tablet 1X'\n\\item 'SBL Abroma Augusta Mother Tincture Q'\n\\item 'Baidyanath Basant Kusumakar Ras (S.C.M.Yu) with Gold, Silver \\& Pearl Maintains Blood Glucose Level'\n\\item 'Dabur Madhu Rakshak'\n\\item 'SBL Bio-Combination 7 Tablet'\n\\item 'Bakson\\textbackslash{}'s Diab Aid Drop'\n\\item 'SBL Ceanothus Americanus Mother Tincture Q'\n\\item 'Himalaya Koflet-SF Linctus'\n\\item 'Baidyanath Madhumehari Controls Blood Glucose Levels Naturally'\n\\item 'Alma Sugar Free Tablet Low Calorie Sweetener'\n\\item 'Jain Ashwagandha (Withania Somnifera) 850mg Tablet'\n\\item 'ADEL Acid Phos Mother Tincture Q'\n\\item 'So Sweet Stevia Sugar Free Tablet'\n\\item 'Dr. Reckeweg Bio-Combination 7 (BC 7) Tablet'\n\\item 'Dr Willmar Schwabe India Uranium Nitricum Trituration Tablet 4X'\n\\item 'Dr. Reckeweg Gymnema Syl Mother Tincture Q'\n\\item 'Dr. Reckeweg Diabetic Care Combo (R40 + Syzygium Jamb Mother Tincture)'\n\\end{enumerate*}\n",
            "text/plain": [
              " [1] \"Bgr 34 Tablet\"                                                                                     \n",
              " [2] \"Dr. Reckeweg R40 Diabetes Drop Homeopathic Medicine\"                                               \n",
              " [3] \"Dabur Vasant Kusumakar Ras with Gold & Pearl Tablet\"                                               \n",
              " [4] \"SBL Syzygium Jambolanum Mother Tincture Q\"                                                         \n",
              " [5] \"Dhootapapeshwar Madhumeha Kusumakar Rasa\"                                                          \n",
              " [6] \"Sugar Free Green Stevia Pellets\"                                                                   \n",
              " [7] \"Dabur Vasant Kusumakar Ras with Gold & Pearl Tablet\"                                               \n",
              " [8] \"IME 9 Tablet\"                                                                                      \n",
              " [9] \"Dabur GlycoDab Tablet\"                                                                             \n",
              "[10] \"SBL Dibonil Drop\"                                                                                  \n",
              "[11] \"Baidyanath Mahayograj Guggulu Tablet\"                                                              \n",
              "[12] \"Himalaya Diabecon Tablet\"                                                                          \n",
              "[13] \"SBL Gymnema Sylvestre Mother Tincture Q\"                                                           \n",
              "[14] \"SBL Diaboherb Capsule\"                                                                             \n",
              "[15] \"Dabur Vasant Kusumakar Ras with Gold & Pearl Tablet\"                                               \n",
              "[16] \"Baidyanath Mahayograj Guggulu Tablet\"                                                              \n",
              "[17] \"Baidyanath Laxmivilas Ras Tablet\"                                                                  \n",
              "[18] \"So Sweet Stevia Sugar Free Tablet\"                                                                 \n",
              "[19] \"Baidyanath Madhumehari Controls Blood Glucose Levels Naturally\"                                    \n",
              "[20] \"ADEL 18 Glucorect Drop\"                                                                            \n",
              "[21] \"SBL Cephalandra Indica Mother Tincture Q\"                                                          \n",
              "[22] \"Dabur Vasant Kusumakar Ras with Gold & Pearl Tablet\"                                               \n",
              "[23] \"Dabur GlycoDab Tablet\"                                                                             \n",
              "[24] \"Dabur Vasant Kusumakar Ras with Gold & Pearl Tablet\"                                               \n",
              "[25] \"Dr. Reckeweg Syzygium Jamb Mother Tincture Q\"                                                      \n",
              "[26] \"Sri Sri Tattva Nishamalaki Tablet\"                                                                 \n",
              "[27] \"Baidyanath Laxmivilas Ras Tablet\"                                                                  \n",
              "[28] \"Bjain Syzygium Jambolanum Mother Tincture Q\"                                                       \n",
              "[29] \"Dhootapapeshwar Shilapravang (with Mouktik) Tablet\"                                                \n",
              "[30] \"Berbeshine Tablet\"                                                                                 \n",
              "[31] \"Baidyanath Sariwadi Bati\"                                                                          \n",
              "[32] \"SBL Dibonil Tablet\"                                                                                \n",
              "[33] \"Dr Willmar Schwabe India Syzygium Jambolanum Trituration Tablet 1X\"                                \n",
              "[34] \"SBL Abroma Augusta Mother Tincture Q\"                                                              \n",
              "[35] \"Baidyanath Basant Kusumakar Ras (S.C.M.Yu) with Gold, Silver & Pearl Maintains Blood Glucose Level\"\n",
              "[36] \"Dabur Madhu Rakshak\"                                                                               \n",
              "[37] \"SBL Bio-Combination 7 Tablet\"                                                                      \n",
              "[38] \"Bakson's Diab Aid Drop\"                                                                            \n",
              "[39] \"SBL Ceanothus Americanus Mother Tincture Q\"                                                        \n",
              "[40] \"Himalaya Koflet-SF Linctus\"                                                                        \n",
              "[41] \"Baidyanath Madhumehari Controls Blood Glucose Levels Naturally\"                                    \n",
              "[42] \"Alma Sugar Free Tablet Low Calorie Sweetener\"                                                      \n",
              "[43] \"Jain Ashwagandha (Withania Somnifera) 850mg Tablet\"                                                \n",
              "[44] \"ADEL Acid Phos Mother Tincture Q\"                                                                  \n",
              "[45] \"So Sweet Stevia Sugar Free Tablet\"                                                                 \n",
              "[46] \"Dr. Reckeweg Bio-Combination 7 (BC 7) Tablet\"                                                      \n",
              "[47] \"Dr Willmar Schwabe India Uranium Nitricum Trituration Tablet 4X\"                                   \n",
              "[48] \"Dr. Reckeweg Gymnema Syl Mother Tincture Q\"                                                        \n",
              "[49] \"Dr. Reckeweg Diabetic Care Combo (R40 + Syzygium Jamb Mother Tincture)\"                            "
            ]
          },
          "metadata": {}
        }
      ]
    },
    {
      "cell_type": "code",
      "source": [
        "description <- web %>%html_nodes(\".style__pack-size___2JQG7\")%>% html_text()\n",
        "description"
      ],
      "metadata": {
        "colab": {
          "base_uri": "https://localhost:8080/",
          "height": 121
        },
        "id": "FEXFS1FwCQSq",
        "outputId": "bafe2c83-8376-482e-fe7d-4096a7e3d32f"
      },
      "execution_count": 67,
      "outputs": [
        {
          "output_type": "display_data",
          "data": {
            "text/html": [
              "<style>\n",
              ".list-inline {list-style: none; margin:0; padding: 0}\n",
              ".list-inline>li {display: inline-block}\n",
              ".list-inline>li:not(:last-child)::after {content: \"\\00b7\"; padding: 0 .5ex}\n",
              "</style>\n",
              "<ol class=list-inline><li>'bottle of 100 tablets'</li><li>'bottle of 22 ml Drop'</li><li>'bottle of 30 tablets'</li><li>'bottle of 30 ml Mother Tincture'</li><li>'box of 30 tablets'</li><li>'bottle of 300 pellets'</li><li>'bottle of 100 tablets'</li><li>'bottle of 60 tablets'</li><li>'bottle of 60 tablets'</li><li>'bottle of 30 ml Drop'</li><li>'strip of 40 tablets'</li><li>'bottle of 60 tablets'</li><li>'bottle of 30 ml Mother Tincture'</li><li>'box of 100 capsules'</li><li>'bottle of 10 tablets'</li><li>'strip of 40 tablets'</li><li>'bottle of 40 tablets'</li><li>'bottle of 500 tablets'</li><li>'bottle of 200 gm Powder'</li><li>'bottle of 20 ml Drop'</li><li>'bottle of 30 ml Mother Tincture'</li><li>'bottle of 100 tablets'</li><li>'bottle of 60 tablets'</li><li>'bottle of 30 tablets'</li><li>'bottle of 20 ml Mother Tincture'</li><li>'bottle of 60 tablets'</li><li>'bottle of 40 tablets'</li><li>'bottle of 100 ml Mother Tincture'</li><li>'bottle of 100 tablets'</li><li>'strip of 10 tablets'</li><li>'bottle of 30 tablets'</li><li>'bottle of 25 gm Tablet'</li><li>'bottle of 20 gm Trituration Tablet'</li><li>'bottle of 30 ml Mother Tincture'</li><li>'bottle of 25 tablets'</li><li>'bottle of 250 gm Powder'</li><li>'bottle of 25 gm Biocombination Tablet'</li><li>'bottle of 30 ml Drop'</li><li>'bottle of 30 ml Mother Tincture'</li><li>'bottle of 100 ml Linctus'</li><li>'bottle of 200 gm Powder'</li><li>'bottle of 650 tablets'</li><li>'box of 1000 tablets'</li><li>'bottle of 20 ml Mother Tincture'</li><li>'packet of 100 tablets'</li><li>'bottle of 20 gm Biocombination Tablet'</li><li>'bottle of 20 gm Trituration Tablet'</li><li>'bottle of 20 ml Mother Tincture'</li><li>'packet of 1 Kit'</li></ol>\n"
            ],
            "text/markdown": "1. 'bottle of 100 tablets'\n2. 'bottle of 22 ml Drop'\n3. 'bottle of 30 tablets'\n4. 'bottle of 30 ml Mother Tincture'\n5. 'box of 30 tablets'\n6. 'bottle of 300 pellets'\n7. 'bottle of 100 tablets'\n8. 'bottle of 60 tablets'\n9. 'bottle of 60 tablets'\n10. 'bottle of 30 ml Drop'\n11. 'strip of 40 tablets'\n12. 'bottle of 60 tablets'\n13. 'bottle of 30 ml Mother Tincture'\n14. 'box of 100 capsules'\n15. 'bottle of 10 tablets'\n16. 'strip of 40 tablets'\n17. 'bottle of 40 tablets'\n18. 'bottle of 500 tablets'\n19. 'bottle of 200 gm Powder'\n20. 'bottle of 20 ml Drop'\n21. 'bottle of 30 ml Mother Tincture'\n22. 'bottle of 100 tablets'\n23. 'bottle of 60 tablets'\n24. 'bottle of 30 tablets'\n25. 'bottle of 20 ml Mother Tincture'\n26. 'bottle of 60 tablets'\n27. 'bottle of 40 tablets'\n28. 'bottle of 100 ml Mother Tincture'\n29. 'bottle of 100 tablets'\n30. 'strip of 10 tablets'\n31. 'bottle of 30 tablets'\n32. 'bottle of 25 gm Tablet'\n33. 'bottle of 20 gm Trituration Tablet'\n34. 'bottle of 30 ml Mother Tincture'\n35. 'bottle of 25 tablets'\n36. 'bottle of 250 gm Powder'\n37. 'bottle of 25 gm Biocombination Tablet'\n38. 'bottle of 30 ml Drop'\n39. 'bottle of 30 ml Mother Tincture'\n40. 'bottle of 100 ml Linctus'\n41. 'bottle of 200 gm Powder'\n42. 'bottle of 650 tablets'\n43. 'box of 1000 tablets'\n44. 'bottle of 20 ml Mother Tincture'\n45. 'packet of 100 tablets'\n46. 'bottle of 20 gm Biocombination Tablet'\n47. 'bottle of 20 gm Trituration Tablet'\n48. 'bottle of 20 ml Mother Tincture'\n49. 'packet of 1 Kit'\n\n\n",
            "text/latex": "\\begin{enumerate*}\n\\item 'bottle of 100 tablets'\n\\item 'bottle of 22 ml Drop'\n\\item 'bottle of 30 tablets'\n\\item 'bottle of 30 ml Mother Tincture'\n\\item 'box of 30 tablets'\n\\item 'bottle of 300 pellets'\n\\item 'bottle of 100 tablets'\n\\item 'bottle of 60 tablets'\n\\item 'bottle of 60 tablets'\n\\item 'bottle of 30 ml Drop'\n\\item 'strip of 40 tablets'\n\\item 'bottle of 60 tablets'\n\\item 'bottle of 30 ml Mother Tincture'\n\\item 'box of 100 capsules'\n\\item 'bottle of 10 tablets'\n\\item 'strip of 40 tablets'\n\\item 'bottle of 40 tablets'\n\\item 'bottle of 500 tablets'\n\\item 'bottle of 200 gm Powder'\n\\item 'bottle of 20 ml Drop'\n\\item 'bottle of 30 ml Mother Tincture'\n\\item 'bottle of 100 tablets'\n\\item 'bottle of 60 tablets'\n\\item 'bottle of 30 tablets'\n\\item 'bottle of 20 ml Mother Tincture'\n\\item 'bottle of 60 tablets'\n\\item 'bottle of 40 tablets'\n\\item 'bottle of 100 ml Mother Tincture'\n\\item 'bottle of 100 tablets'\n\\item 'strip of 10 tablets'\n\\item 'bottle of 30 tablets'\n\\item 'bottle of 25 gm Tablet'\n\\item 'bottle of 20 gm Trituration Tablet'\n\\item 'bottle of 30 ml Mother Tincture'\n\\item 'bottle of 25 tablets'\n\\item 'bottle of 250 gm Powder'\n\\item 'bottle of 25 gm Biocombination Tablet'\n\\item 'bottle of 30 ml Drop'\n\\item 'bottle of 30 ml Mother Tincture'\n\\item 'bottle of 100 ml Linctus'\n\\item 'bottle of 200 gm Powder'\n\\item 'bottle of 650 tablets'\n\\item 'box of 1000 tablets'\n\\item 'bottle of 20 ml Mother Tincture'\n\\item 'packet of 100 tablets'\n\\item 'bottle of 20 gm Biocombination Tablet'\n\\item 'bottle of 20 gm Trituration Tablet'\n\\item 'bottle of 20 ml Mother Tincture'\n\\item 'packet of 1 Kit'\n\\end{enumerate*}\n",
            "text/plain": [
              " [1] \"bottle of 100 tablets\"                \n",
              " [2] \"bottle of 22 ml Drop\"                 \n",
              " [3] \"bottle of 30 tablets\"                 \n",
              " [4] \"bottle of 30 ml Mother Tincture\"      \n",
              " [5] \"box of 30 tablets\"                    \n",
              " [6] \"bottle of 300 pellets\"                \n",
              " [7] \"bottle of 100 tablets\"                \n",
              " [8] \"bottle of 60 tablets\"                 \n",
              " [9] \"bottle of 60 tablets\"                 \n",
              "[10] \"bottle of 30 ml Drop\"                 \n",
              "[11] \"strip of 40 tablets\"                  \n",
              "[12] \"bottle of 60 tablets\"                 \n",
              "[13] \"bottle of 30 ml Mother Tincture\"      \n",
              "[14] \"box of 100 capsules\"                  \n",
              "[15] \"bottle of 10 tablets\"                 \n",
              "[16] \"strip of 40 tablets\"                  \n",
              "[17] \"bottle of 40 tablets\"                 \n",
              "[18] \"bottle of 500 tablets\"                \n",
              "[19] \"bottle of 200 gm Powder\"              \n",
              "[20] \"bottle of 20 ml Drop\"                 \n",
              "[21] \"bottle of 30 ml Mother Tincture\"      \n",
              "[22] \"bottle of 100 tablets\"                \n",
              "[23] \"bottle of 60 tablets\"                 \n",
              "[24] \"bottle of 30 tablets\"                 \n",
              "[25] \"bottle of 20 ml Mother Tincture\"      \n",
              "[26] \"bottle of 60 tablets\"                 \n",
              "[27] \"bottle of 40 tablets\"                 \n",
              "[28] \"bottle of 100 ml Mother Tincture\"     \n",
              "[29] \"bottle of 100 tablets\"                \n",
              "[30] \"strip of 10 tablets\"                  \n",
              "[31] \"bottle of 30 tablets\"                 \n",
              "[32] \"bottle of 25 gm Tablet\"               \n",
              "[33] \"bottle of 20 gm Trituration Tablet\"   \n",
              "[34] \"bottle of 30 ml Mother Tincture\"      \n",
              "[35] \"bottle of 25 tablets\"                 \n",
              "[36] \"bottle of 250 gm Powder\"              \n",
              "[37] \"bottle of 25 gm Biocombination Tablet\"\n",
              "[38] \"bottle of 30 ml Drop\"                 \n",
              "[39] \"bottle of 30 ml Mother Tincture\"      \n",
              "[40] \"bottle of 100 ml Linctus\"             \n",
              "[41] \"bottle of 200 gm Powder\"              \n",
              "[42] \"bottle of 650 tablets\"                \n",
              "[43] \"box of 1000 tablets\"                  \n",
              "[44] \"bottle of 20 ml Mother Tincture\"      \n",
              "[45] \"packet of 100 tablets\"                \n",
              "[46] \"bottle of 20 gm Biocombination Tablet\"\n",
              "[47] \"bottle of 20 gm Trituration Tablet\"   \n",
              "[48] \"bottle of 20 ml Mother Tincture\"      \n",
              "[49] \"packet of 1 Kit\"                      "
            ]
          },
          "metadata": {}
        }
      ]
    },
    {
      "cell_type": "code",
      "source": [
        "rating <- web %>%html_nodes(\".CardRatingDetail__weight-700___27w9q\")%>% html_text()\n",
        "rating"
      ],
      "metadata": {
        "colab": {
          "base_uri": "https://localhost:8080/",
          "height": 52
        },
        "id": "Ob6jJ-_QCzuc",
        "outputId": "1095fe7f-31ab-4912-985c-29422f94b9f5"
      },
      "execution_count": 68,
      "outputs": [
        {
          "output_type": "display_data",
          "data": {
            "text/html": [
              "<style>\n",
              ".list-inline {list-style: none; margin:0; padding: 0}\n",
              ".list-inline>li {display: inline-block}\n",
              ".list-inline>li:not(:last-child)::after {content: \"\\00b7\"; padding: 0 .5ex}\n",
              "</style>\n",
              "<ol class=list-inline><li>'4.2'</li><li>'4.6'</li><li>'4.2'</li><li>'4.6'</li><li>'4.3'</li><li>'4.3'</li><li>'4.2'</li><li>'4.1'</li><li>'4.2'</li><li>'4.5'</li><li>'4.2'</li><li>'4.1'</li><li>'4.6'</li><li>'4.2'</li><li>'4.2'</li><li>'4.2'</li><li>'4.3'</li><li>'4'</li><li>'4.4'</li><li>'4.4'</li><li>'4.7'</li><li>'4.2'</li><li>'4.2'</li><li>'4.2'</li><li>'4.7'</li><li>'4.5'</li><li>'4.3'</li><li>'4.7'</li><li>'4.1'</li><li>'4.2'</li><li>'4.6'</li><li>'4.5'</li><li>'4.6'</li><li>'4.1'</li><li>'4.2'</li><li>'4.6'</li><li>'4.5'</li><li>'4.4'</li><li>'4.4'</li><li>'4.4'</li><li>'4.4'</li><li>'4.1'</li><li>'4.3'</li><li>'3.5'</li><li>'4.7'</li><li>'4.7'</li><li>'4.6'</li><li>'3.7'</li></ol>\n"
            ],
            "text/markdown": "1. '4.2'\n2. '4.6'\n3. '4.2'\n4. '4.6'\n5. '4.3'\n6. '4.3'\n7. '4.2'\n8. '4.1'\n9. '4.2'\n10. '4.5'\n11. '4.2'\n12. '4.1'\n13. '4.6'\n14. '4.2'\n15. '4.2'\n16. '4.2'\n17. '4.3'\n18. '4'\n19. '4.4'\n20. '4.4'\n21. '4.7'\n22. '4.2'\n23. '4.2'\n24. '4.2'\n25. '4.7'\n26. '4.5'\n27. '4.3'\n28. '4.7'\n29. '4.1'\n30. '4.2'\n31. '4.6'\n32. '4.5'\n33. '4.6'\n34. '4.1'\n35. '4.2'\n36. '4.6'\n37. '4.5'\n38. '4.4'\n39. '4.4'\n40. '4.4'\n41. '4.4'\n42. '4.1'\n43. '4.3'\n44. '3.5'\n45. '4.7'\n46. '4.7'\n47. '4.6'\n48. '3.7'\n\n\n",
            "text/latex": "\\begin{enumerate*}\n\\item '4.2'\n\\item '4.6'\n\\item '4.2'\n\\item '4.6'\n\\item '4.3'\n\\item '4.3'\n\\item '4.2'\n\\item '4.1'\n\\item '4.2'\n\\item '4.5'\n\\item '4.2'\n\\item '4.1'\n\\item '4.6'\n\\item '4.2'\n\\item '4.2'\n\\item '4.2'\n\\item '4.3'\n\\item '4'\n\\item '4.4'\n\\item '4.4'\n\\item '4.7'\n\\item '4.2'\n\\item '4.2'\n\\item '4.2'\n\\item '4.7'\n\\item '4.5'\n\\item '4.3'\n\\item '4.7'\n\\item '4.1'\n\\item '4.2'\n\\item '4.6'\n\\item '4.5'\n\\item '4.6'\n\\item '4.1'\n\\item '4.2'\n\\item '4.6'\n\\item '4.5'\n\\item '4.4'\n\\item '4.4'\n\\item '4.4'\n\\item '4.4'\n\\item '4.1'\n\\item '4.3'\n\\item '3.5'\n\\item '4.7'\n\\item '4.7'\n\\item '4.6'\n\\item '3.7'\n\\end{enumerate*}\n",
            "text/plain": [
              " [1] \"4.2\" \"4.6\" \"4.2\" \"4.6\" \"4.3\" \"4.3\" \"4.2\" \"4.1\" \"4.2\" \"4.5\" \"4.2\" \"4.1\"\n",
              "[13] \"4.6\" \"4.2\" \"4.2\" \"4.2\" \"4.3\" \"4\"   \"4.4\" \"4.4\" \"4.7\" \"4.2\" \"4.2\" \"4.2\"\n",
              "[25] \"4.7\" \"4.5\" \"4.3\" \"4.7\" \"4.1\" \"4.2\" \"4.6\" \"4.5\" \"4.6\" \"4.1\" \"4.2\" \"4.6\"\n",
              "[37] \"4.5\" \"4.4\" \"4.4\" \"4.4\" \"4.4\" \"4.1\" \"4.3\" \"3.5\" \"4.7\" \"4.7\" \"4.6\" \"3.7\""
            ]
          },
          "metadata": {}
        }
      ]
    },
    {
      "cell_type": "code",
      "source": [
        "no_of_rating <- web %>%html_nodes(\".CardRatingDetail__ratings-header___2yyQW\")%>% html_text()\n",
        "no_of_rating"
      ],
      "metadata": {
        "colab": {
          "base_uri": "https://localhost:8080/",
          "height": 69
        },
        "id": "D1nGE-nTC0Bn",
        "outputId": "eb364bb2-409b-43e3-a7e3-1e2f45ab4023"
      },
      "execution_count": 69,
      "outputs": [
        {
          "output_type": "display_data",
          "data": {
            "text/html": [
              "<style>\n",
              ".list-inline {list-style: none; margin:0; padding: 0}\n",
              ".list-inline>li {display: inline-block}\n",
              ".list-inline>li:not(:last-child)::after {content: \"\\00b7\"; padding: 0 .5ex}\n",
              "</style>\n",
              "<ol class=list-inline><li>'1378 ratings'</li><li>'274 ratings'</li><li>'134 ratings'</li><li>'517 ratings'</li><li>'195 ratings'</li><li>'870 ratings'</li><li>'134 ratings'</li><li>'954 ratings'</li><li>'136 ratings'</li><li>'337 ratings'</li><li>'142 ratings'</li><li>'140 ratings'</li><li>'200 ratings'</li><li>'41 ratings'</li><li>'134 ratings'</li><li>'142 ratings'</li><li>'144 ratings'</li><li>'177 ratings'</li><li>'131 ratings'</li><li>'88 ratings'</li><li>'139 ratings'</li><li>'134 ratings'</li><li>'136 ratings'</li><li>'134 ratings'</li><li>'95 ratings'</li><li>'105 ratings'</li><li>'144 ratings'</li><li>'138 ratings'</li><li>'57 ratings'</li><li>'49 ratings'</li><li>'82 ratings'</li><li>'75 ratings'</li><li>'95 ratings'</li><li>'281 ratings'</li><li>'126 ratings'</li><li>'61 ratings'</li><li>'71 ratings'</li><li>'27 ratings'</li><li>'99 ratings'</li><li>'131 ratings'</li><li>'20 ratings'</li><li>'39 ratings'</li><li>'24 ratings'</li><li>'128 ratings'</li><li>'39 ratings'</li><li>'48 ratings'</li><li>'11 ratings'</li><li>'17 ratings'</li></ol>\n"
            ],
            "text/markdown": "1. '1378 ratings'\n2. '274 ratings'\n3. '134 ratings'\n4. '517 ratings'\n5. '195 ratings'\n6. '870 ratings'\n7. '134 ratings'\n8. '954 ratings'\n9. '136 ratings'\n10. '337 ratings'\n11. '142 ratings'\n12. '140 ratings'\n13. '200 ratings'\n14. '41 ratings'\n15. '134 ratings'\n16. '142 ratings'\n17. '144 ratings'\n18. '177 ratings'\n19. '131 ratings'\n20. '88 ratings'\n21. '139 ratings'\n22. '134 ratings'\n23. '136 ratings'\n24. '134 ratings'\n25. '95 ratings'\n26. '105 ratings'\n27. '144 ratings'\n28. '138 ratings'\n29. '57 ratings'\n30. '49 ratings'\n31. '82 ratings'\n32. '75 ratings'\n33. '95 ratings'\n34. '281 ratings'\n35. '126 ratings'\n36. '61 ratings'\n37. '71 ratings'\n38. '27 ratings'\n39. '99 ratings'\n40. '131 ratings'\n41. '20 ratings'\n42. '39 ratings'\n43. '24 ratings'\n44. '128 ratings'\n45. '39 ratings'\n46. '48 ratings'\n47. '11 ratings'\n48. '17 ratings'\n\n\n",
            "text/latex": "\\begin{enumerate*}\n\\item '1378 ratings'\n\\item '274 ratings'\n\\item '134 ratings'\n\\item '517 ratings'\n\\item '195 ratings'\n\\item '870 ratings'\n\\item '134 ratings'\n\\item '954 ratings'\n\\item '136 ratings'\n\\item '337 ratings'\n\\item '142 ratings'\n\\item '140 ratings'\n\\item '200 ratings'\n\\item '41 ratings'\n\\item '134 ratings'\n\\item '142 ratings'\n\\item '144 ratings'\n\\item '177 ratings'\n\\item '131 ratings'\n\\item '88 ratings'\n\\item '139 ratings'\n\\item '134 ratings'\n\\item '136 ratings'\n\\item '134 ratings'\n\\item '95 ratings'\n\\item '105 ratings'\n\\item '144 ratings'\n\\item '138 ratings'\n\\item '57 ratings'\n\\item '49 ratings'\n\\item '82 ratings'\n\\item '75 ratings'\n\\item '95 ratings'\n\\item '281 ratings'\n\\item '126 ratings'\n\\item '61 ratings'\n\\item '71 ratings'\n\\item '27 ratings'\n\\item '99 ratings'\n\\item '131 ratings'\n\\item '20 ratings'\n\\item '39 ratings'\n\\item '24 ratings'\n\\item '128 ratings'\n\\item '39 ratings'\n\\item '48 ratings'\n\\item '11 ratings'\n\\item '17 ratings'\n\\end{enumerate*}\n",
            "text/plain": [
              " [1] \"1378 ratings\" \"274 ratings\"  \"134 ratings\"  \"517 ratings\"  \"195 ratings\" \n",
              " [6] \"870 ratings\"  \"134 ratings\"  \"954 ratings\"  \"136 ratings\"  \"337 ratings\" \n",
              "[11] \"142 ratings\"  \"140 ratings\"  \"200 ratings\"  \"41 ratings\"   \"134 ratings\" \n",
              "[16] \"142 ratings\"  \"144 ratings\"  \"177 ratings\"  \"131 ratings\"  \"88 ratings\"  \n",
              "[21] \"139 ratings\"  \"134 ratings\"  \"136 ratings\"  \"134 ratings\"  \"95 ratings\"  \n",
              "[26] \"105 ratings\"  \"144 ratings\"  \"138 ratings\"  \"57 ratings\"   \"49 ratings\"  \n",
              "[31] \"82 ratings\"   \"75 ratings\"   \"95 ratings\"   \"281 ratings\"  \"126 ratings\" \n",
              "[36] \"61 ratings\"   \"71 ratings\"   \"27 ratings\"   \"99 ratings\"   \"131 ratings\" \n",
              "[41] \"20 ratings\"   \"39 ratings\"   \"24 ratings\"   \"128 ratings\"  \"39 ratings\"  \n",
              "[46] \"48 ratings\"   \"11 ratings\"   \"17 ratings\"  "
            ]
          },
          "metadata": {}
        }
      ]
    },
    {
      "cell_type": "code",
      "source": [
        "offer_price <- web %>%html_nodes(\".style__large___ubU44+ span , .style__product-pricing___38PRR div .style__price-tag___cOxYc span\")%>% html_text()\n",
        "offer_price"
      ],
      "metadata": {
        "colab": {
          "base_uri": "https://localhost:8080/",
          "height": 52
        },
        "id": "5soYpMAqDkH5",
        "outputId": "78864b12-34a9-481d-f0ec-f5c2b1825e25"
      },
      "execution_count": 70,
      "outputs": [
        {
          "output_type": "display_data",
          "data": {
            "text/html": [
              "<style>\n",
              ".list-inline {list-style: none; margin:0; padding: 0}\n",
              ".list-inline>li {display: inline-block}\n",
              ".list-inline>li:not(:last-child)::after {content: \"\\00b7\"; padding: 0 .5ex}\n",
              "</style>\n",
              "<ol class=list-inline><li>'400'</li><li>'243'</li><li>'1908'</li><li>'87'</li><li>'770'</li><li>'175'</li><li>'4227'</li><li>'311'</li><li>'286'</li><li>'117'</li><li>'205'</li><li>'125'</li><li>'95'</li><li>'380'</li><li>'564'</li><li>'205'</li><li>'132'</li><li>'390'</li><li>'322'</li><li>'295'</li><li>'87'</li><li>'4227'</li><li>'286'</li><li>'1908'</li><li>'234'</li><li>'120'</li><li>'132'</li><li>'190'</li><li>'397'</li><li>'199'</li><li>'168'</li><li>'147'</li><li>'149'</li><li>'102'</li><li>'1328'</li><li>'374'</li><li>'102'</li><li>'133'</li><li>'270'</li><li>'97'</li><li>'322'</li><li>'549'</li><li>'1486'</li><li>'243'</li><li>'117'</li><li>'173'</li><li>'131'</li><li>'255'</li><li>'489'</li></ol>\n"
            ],
            "text/markdown": "1. '400'\n2. '243'\n3. '1908'\n4. '87'\n5. '770'\n6. '175'\n7. '4227'\n8. '311'\n9. '286'\n10. '117'\n11. '205'\n12. '125'\n13. '95'\n14. '380'\n15. '564'\n16. '205'\n17. '132'\n18. '390'\n19. '322'\n20. '295'\n21. '87'\n22. '4227'\n23. '286'\n24. '1908'\n25. '234'\n26. '120'\n27. '132'\n28. '190'\n29. '397'\n30. '199'\n31. '168'\n32. '147'\n33. '149'\n34. '102'\n35. '1328'\n36. '374'\n37. '102'\n38. '133'\n39. '270'\n40. '97'\n41. '322'\n42. '549'\n43. '1486'\n44. '243'\n45. '117'\n46. '173'\n47. '131'\n48. '255'\n49. '489'\n\n\n",
            "text/latex": "\\begin{enumerate*}\n\\item '400'\n\\item '243'\n\\item '1908'\n\\item '87'\n\\item '770'\n\\item '175'\n\\item '4227'\n\\item '311'\n\\item '286'\n\\item '117'\n\\item '205'\n\\item '125'\n\\item '95'\n\\item '380'\n\\item '564'\n\\item '205'\n\\item '132'\n\\item '390'\n\\item '322'\n\\item '295'\n\\item '87'\n\\item '4227'\n\\item '286'\n\\item '1908'\n\\item '234'\n\\item '120'\n\\item '132'\n\\item '190'\n\\item '397'\n\\item '199'\n\\item '168'\n\\item '147'\n\\item '149'\n\\item '102'\n\\item '1328'\n\\item '374'\n\\item '102'\n\\item '133'\n\\item '270'\n\\item '97'\n\\item '322'\n\\item '549'\n\\item '1486'\n\\item '243'\n\\item '117'\n\\item '173'\n\\item '131'\n\\item '255'\n\\item '489'\n\\end{enumerate*}\n",
            "text/plain": [
              " [1] \"400\"  \"243\"  \"1908\" \"87\"   \"770\"  \"175\"  \"4227\" \"311\"  \"286\"  \"117\" \n",
              "[11] \"205\"  \"125\"  \"95\"   \"380\"  \"564\"  \"205\"  \"132\"  \"390\"  \"322\"  \"295\" \n",
              "[21] \"87\"   \"4227\" \"286\"  \"1908\" \"234\"  \"120\"  \"132\"  \"190\"  \"397\"  \"199\" \n",
              "[31] \"168\"  \"147\"  \"149\"  \"102\"  \"1328\" \"374\"  \"102\"  \"133\"  \"270\"  \"97\"  \n",
              "[41] \"322\"  \"549\"  \"1486\" \"243\"  \"117\"  \"173\"  \"131\"  \"255\"  \"489\" "
            ]
          },
          "metadata": {}
        }
      ]
    },
    {
      "cell_type": "code",
      "source": [
        "mrp <- web %>%html_nodes(\".style__discount-price___25Bya\")%>% html_text()\n",
        "mrp"
      ],
      "metadata": {
        "colab": {
          "base_uri": "https://localhost:8080/",
          "height": 52
        },
        "id": "cP1MGZKaFUes",
        "outputId": "f17baaf8-96be-44cd-b440-9815cb8791a6"
      },
      "execution_count": 71,
      "outputs": [
        {
          "output_type": "display_data",
          "data": {
            "text/html": [
              "<style>\n",
              ".list-inline {list-style: none; margin:0; padding: 0}\n",
              ".list-inline>li {display: inline-block}\n",
              ".list-inline>li:not(:last-child)::after {content: \"\\00b7\"; padding: 0 .5ex}\n",
              "</style>\n",
              "<ol class=list-inline><li>'₹600'</li><li>'₹270'</li><li>'₹2120'</li><li>'₹105'</li><li>'₹855'</li><li>'₹215'</li><li>'₹5830'</li><li>'₹345'</li><li>'₹360'</li><li>'₹130'</li><li>'₹228'</li><li>'₹130'</li><li>'₹105'</li><li>'₹450'</li><li>'₹700'</li><li>'₹228'</li><li>'₹147'</li><li>'₹450'</li><li>'₹350'</li><li>'₹105'</li><li>'₹5830'</li><li>'₹360'</li><li>'₹2120'</li><li>'₹255'</li><li>'₹150'</li><li>'₹147'</li><li>'₹225'</li><li>'₹440'</li><li>'₹232'</li><li>'₹183'</li><li>'₹155'</li><li>'₹165'</li><li>'₹105'</li><li>'₹1600'</li><li>'₹415'</li><li>'₹105'</li><li>'₹155'</li><li>'₹330'</li><li>'₹100'</li><li>'₹350'</li><li>'₹575'</li><li>'₹1800'</li><li>'₹270'</li><li>'₹120'</li><li>'₹185'</li><li>'₹135'</li><li>'₹525'</li></ol>\n"
            ],
            "text/markdown": "1. '₹600'\n2. '₹270'\n3. '₹2120'\n4. '₹105'\n5. '₹855'\n6. '₹215'\n7. '₹5830'\n8. '₹345'\n9. '₹360'\n10. '₹130'\n11. '₹228'\n12. '₹130'\n13. '₹105'\n14. '₹450'\n15. '₹700'\n16. '₹228'\n17. '₹147'\n18. '₹450'\n19. '₹350'\n20. '₹105'\n21. '₹5830'\n22. '₹360'\n23. '₹2120'\n24. '₹255'\n25. '₹150'\n26. '₹147'\n27. '₹225'\n28. '₹440'\n29. '₹232'\n30. '₹183'\n31. '₹155'\n32. '₹165'\n33. '₹105'\n34. '₹1600'\n35. '₹415'\n36. '₹105'\n37. '₹155'\n38. '₹330'\n39. '₹100'\n40. '₹350'\n41. '₹575'\n42. '₹1800'\n43. '₹270'\n44. '₹120'\n45. '₹185'\n46. '₹135'\n47. '₹525'\n\n\n",
            "text/latex": "\\begin{enumerate*}\n\\item '₹600'\n\\item '₹270'\n\\item '₹2120'\n\\item '₹105'\n\\item '₹855'\n\\item '₹215'\n\\item '₹5830'\n\\item '₹345'\n\\item '₹360'\n\\item '₹130'\n\\item '₹228'\n\\item '₹130'\n\\item '₹105'\n\\item '₹450'\n\\item '₹700'\n\\item '₹228'\n\\item '₹147'\n\\item '₹450'\n\\item '₹350'\n\\item '₹105'\n\\item '₹5830'\n\\item '₹360'\n\\item '₹2120'\n\\item '₹255'\n\\item '₹150'\n\\item '₹147'\n\\item '₹225'\n\\item '₹440'\n\\item '₹232'\n\\item '₹183'\n\\item '₹155'\n\\item '₹165'\n\\item '₹105'\n\\item '₹1600'\n\\item '₹415'\n\\item '₹105'\n\\item '₹155'\n\\item '₹330'\n\\item '₹100'\n\\item '₹350'\n\\item '₹575'\n\\item '₹1800'\n\\item '₹270'\n\\item '₹120'\n\\item '₹185'\n\\item '₹135'\n\\item '₹525'\n\\end{enumerate*}\n",
            "text/plain": [
              " [1] \"₹600\"  \"₹270\"  \"₹2120\" \"₹105\"  \"₹855\"  \"₹215\"  \"₹5830\" \"₹345\"  \"₹360\" \n",
              "[10] \"₹130\"  \"₹228\"  \"₹130\"  \"₹105\"  \"₹450\"  \"₹700\"  \"₹228\"  \"₹147\"  \"₹450\" \n",
              "[19] \"₹350\"  \"₹105\"  \"₹5830\" \"₹360\"  \"₹2120\" \"₹255\"  \"₹150\"  \"₹147\"  \"₹225\" \n",
              "[28] \"₹440\"  \"₹232\"  \"₹183\"  \"₹155\"  \"₹165\"  \"₹105\"  \"₹1600\" \"₹415\"  \"₹105\" \n",
              "[37] \"₹155\"  \"₹330\"  \"₹100\"  \"₹350\"  \"₹575\"  \"₹1800\" \"₹270\"  \"₹120\"  \"₹185\" \n",
              "[46] \"₹135\"  \"₹525\" "
            ]
          },
          "metadata": {}
        }
      ]
    },
    {
      "cell_type": "code",
      "source": [
        "discount <- web %>%html_nodes(\".style__off-badge___2JaF-\")%>% html_text()\n",
        "discount"
      ],
      "metadata": {
        "colab": {
          "base_uri": "https://localhost:8080/",
          "height": 69
        },
        "id": "0pof6X-ZD3hb",
        "outputId": "25c0005c-1f4d-4edd-a391-e67f2ef396a3"
      },
      "execution_count": 72,
      "outputs": [
        {
          "output_type": "display_data",
          "data": {
            "text/html": [
              "<style>\n",
              ".list-inline {list-style: none; margin:0; padding: 0}\n",
              ".list-inline>li {display: inline-block}\n",
              ".list-inline>li:not(:last-child)::after {content: \"\\00b7\"; padding: 0 .5ex}\n",
              "</style>\n",
              "<ol class=list-inline><li>'33% off'</li><li>'10% off'</li><li>'10% off'</li><li>'17% off'</li><li>'10% off'</li><li>'18% off'</li><li>'27% off'</li><li>'10% off'</li><li>'20% off'</li><li>'10% off'</li><li>'10% off'</li><li>'4% off'</li><li>'9% off'</li><li>'15% off'</li><li>'19% off'</li><li>'10% off'</li><li>'10% off'</li><li>'13% off'</li><li>'8% off'</li><li>'17% off'</li><li>'27% off'</li><li>'20% off'</li><li>'10% off'</li><li>'8% off'</li><li>'20% off'</li><li>'10% off'</li><li>'15% off'</li><li>'9% off'</li><li>'14% off'</li><li>'8% off'</li><li>'5% off'</li><li>'9% off'</li><li>'3% off'</li><li>'17% off'</li><li>'10% off'</li><li>'3% off'</li><li>'14% off'</li><li>'18% off'</li><li>'3% off'</li><li>'8% off'</li><li>'4% off'</li><li>'17% off'</li><li>'10% off'</li><li>'2% off'</li><li>'6% off'</li><li>'3% off'</li><li>'7% off'</li></ol>\n"
            ],
            "text/markdown": "1. '33% off'\n2. '10% off'\n3. '10% off'\n4. '17% off'\n5. '10% off'\n6. '18% off'\n7. '27% off'\n8. '10% off'\n9. '20% off'\n10. '10% off'\n11. '10% off'\n12. '4% off'\n13. '9% off'\n14. '15% off'\n15. '19% off'\n16. '10% off'\n17. '10% off'\n18. '13% off'\n19. '8% off'\n20. '17% off'\n21. '27% off'\n22. '20% off'\n23. '10% off'\n24. '8% off'\n25. '20% off'\n26. '10% off'\n27. '15% off'\n28. '9% off'\n29. '14% off'\n30. '8% off'\n31. '5% off'\n32. '9% off'\n33. '3% off'\n34. '17% off'\n35. '10% off'\n36. '3% off'\n37. '14% off'\n38. '18% off'\n39. '3% off'\n40. '8% off'\n41. '4% off'\n42. '17% off'\n43. '10% off'\n44. '2% off'\n45. '6% off'\n46. '3% off'\n47. '7% off'\n\n\n",
            "text/latex": "\\begin{enumerate*}\n\\item '33\\% off'\n\\item '10\\% off'\n\\item '10\\% off'\n\\item '17\\% off'\n\\item '10\\% off'\n\\item '18\\% off'\n\\item '27\\% off'\n\\item '10\\% off'\n\\item '20\\% off'\n\\item '10\\% off'\n\\item '10\\% off'\n\\item '4\\% off'\n\\item '9\\% off'\n\\item '15\\% off'\n\\item '19\\% off'\n\\item '10\\% off'\n\\item '10\\% off'\n\\item '13\\% off'\n\\item '8\\% off'\n\\item '17\\% off'\n\\item '27\\% off'\n\\item '20\\% off'\n\\item '10\\% off'\n\\item '8\\% off'\n\\item '20\\% off'\n\\item '10\\% off'\n\\item '15\\% off'\n\\item '9\\% off'\n\\item '14\\% off'\n\\item '8\\% off'\n\\item '5\\% off'\n\\item '9\\% off'\n\\item '3\\% off'\n\\item '17\\% off'\n\\item '10\\% off'\n\\item '3\\% off'\n\\item '14\\% off'\n\\item '18\\% off'\n\\item '3\\% off'\n\\item '8\\% off'\n\\item '4\\% off'\n\\item '17\\% off'\n\\item '10\\% off'\n\\item '2\\% off'\n\\item '6\\% off'\n\\item '3\\% off'\n\\item '7\\% off'\n\\end{enumerate*}\n",
            "text/plain": [
              " [1] \"33% off\" \"10% off\" \"10% off\" \"17% off\" \"10% off\" \"18% off\" \"27% off\"\n",
              " [8] \"10% off\" \"20% off\" \"10% off\" \"10% off\" \"4% off\"  \"9% off\"  \"15% off\"\n",
              "[15] \"19% off\" \"10% off\" \"10% off\" \"13% off\" \"8% off\"  \"17% off\" \"27% off\"\n",
              "[22] \"20% off\" \"10% off\" \"8% off\"  \"20% off\" \"10% off\" \"15% off\" \"9% off\" \n",
              "[29] \"14% off\" \"8% off\"  \"5% off\"  \"9% off\"  \"3% off\"  \"17% off\" \"10% off\"\n",
              "[36] \"3% off\"  \"14% off\" \"18% off\" \"3% off\"  \"8% off\"  \"4% off\"  \"17% off\"\n",
              "[43] \"10% off\" \"2% off\"  \"6% off\"  \"3% off\"  \"7% off\" "
            ]
          },
          "metadata": {}
        }
      ]
    },
    {
      "cell_type": "code",
      "source": [
        "max_len <- max(c(length(name),length(description),length(rating),length(no_of_rating),length(offer_price),length(mrp),length(discount)))\n",
        "max_len"
      ],
      "metadata": {
        "colab": {
          "base_uri": "https://localhost:8080/",
          "height": 34
        },
        "id": "djYYLa7FMNuU",
        "outputId": "22deaacf-b24e-472f-863c-2f69c7e35db9"
      },
      "execution_count": 73,
      "outputs": [
        {
          "output_type": "display_data",
          "data": {
            "text/html": [
              "49"
            ],
            "text/markdown": "49",
            "text/latex": "49",
            "text/plain": [
              "[1] 49"
            ]
          },
          "metadata": {}
        }
      ]
    },
    {
      "cell_type": "code",
      "source": [
        "mg <- data.frame(name = c(name,rep(NA,max_len - length(name))),\n",
        "                 description = c(description,rep(NA,max_len - length(description))),\n",
        "                 rating = c(rating,rep(NA,max_len - length(rating))),\n",
        "                 no_of_rating = c(no_of_rating,rep(NA,max_len - length(no_of_rating))),\n",
        "                 offer_price = c(offer_price,rep(NA,max_len - length(offer_price))),\n",
        "                 mrp = c(mrp,rep(NA,max_len - length(mrp))),\n",
        "                 discount = c(discount,rep(NA,max_len - length(discount)))\n",
        ")\n",
        "\n",
        "mg"
      ],
      "metadata": {
        "colab": {
          "base_uri": "https://localhost:8080/",
          "height": 1000
        },
        "id": "-dIGD2fJFs8e",
        "outputId": "3e6c48b8-8f45-43c8-b02f-7ae36e2eb21f"
      },
      "execution_count": 74,
      "outputs": [
        {
          "output_type": "display_data",
          "data": {
            "text/html": [
              "<table class=\"dataframe\">\n",
              "<caption>A data.frame: 49 × 7</caption>\n",
              "<thead>\n",
              "\t<tr><th scope=col>name</th><th scope=col>description</th><th scope=col>rating</th><th scope=col>no_of_rating</th><th scope=col>offer_price</th><th scope=col>mrp</th><th scope=col>discount</th></tr>\n",
              "\t<tr><th scope=col>&lt;chr&gt;</th><th scope=col>&lt;chr&gt;</th><th scope=col>&lt;chr&gt;</th><th scope=col>&lt;chr&gt;</th><th scope=col>&lt;chr&gt;</th><th scope=col>&lt;chr&gt;</th><th scope=col>&lt;chr&gt;</th></tr>\n",
              "</thead>\n",
              "<tbody>\n",
              "\t<tr><td>Bgr 34 Tablet                                                                                     </td><td>bottle of 100 tablets                </td><td>4.2</td><td>1378 ratings</td><td>400 </td><td>₹600 </td><td>33% off</td></tr>\n",
              "\t<tr><td>Dr. Reckeweg R40 Diabetes Drop Homeopathic Medicine                                               </td><td>bottle of 22 ml Drop                 </td><td>4.6</td><td>274 ratings </td><td>243 </td><td>₹270 </td><td>10% off</td></tr>\n",
              "\t<tr><td><span style=white-space:pre-wrap>Dabur Vasant Kusumakar Ras with Gold &amp; Pearl Tablet                                               </span></td><td><span style=white-space:pre-wrap>bottle of 30 tablets                 </span></td><td>4.2</td><td>134 ratings </td><td>1908</td><td>₹2120</td><td>10% off</td></tr>\n",
              "\t<tr><td>SBL Syzygium Jambolanum Mother Tincture Q                                                         </td><td>bottle of 30 ml Mother Tincture      </td><td>4.6</td><td>517 ratings </td><td>87  </td><td>₹105 </td><td>17% off</td></tr>\n",
              "\t<tr><td>Dhootapapeshwar Madhumeha Kusumakar Rasa                                                          </td><td>box of 30 tablets                    </td><td>4.3</td><td>195 ratings </td><td>770 </td><td>₹855 </td><td>10% off</td></tr>\n",
              "\t<tr><td>Sugar Free Green Stevia Pellets                                                                   </td><td>bottle of 300 pellets                </td><td>4.3</td><td>870 ratings </td><td>175 </td><td>₹215 </td><td>18% off</td></tr>\n",
              "\t<tr><td><span style=white-space:pre-wrap>Dabur Vasant Kusumakar Ras with Gold &amp; Pearl Tablet                                               </span></td><td><span style=white-space:pre-wrap>bottle of 100 tablets                </span></td><td>4.2</td><td>134 ratings </td><td>4227</td><td>₹5830</td><td>27% off</td></tr>\n",
              "\t<tr><td>IME 9 Tablet                                                                                      </td><td>bottle of 60 tablets                 </td><td>4.1</td><td>954 ratings </td><td>311 </td><td>₹345 </td><td>10% off</td></tr>\n",
              "\t<tr><td>Dabur GlycoDab Tablet                                                                             </td><td>bottle of 60 tablets                 </td><td>4.2</td><td>136 ratings </td><td>286 </td><td>₹360 </td><td>20% off</td></tr>\n",
              "\t<tr><td>SBL Dibonil Drop                                                                                  </td><td>bottle of 30 ml Drop                 </td><td>4.5</td><td>337 ratings </td><td>117 </td><td>₹130 </td><td>10% off</td></tr>\n",
              "\t<tr><td>Baidyanath Mahayograj Guggulu Tablet                                                              </td><td>strip of 40 tablets                  </td><td>4.2</td><td>142 ratings </td><td>205 </td><td>₹228 </td><td>10% off</td></tr>\n",
              "\t<tr><td>Himalaya Diabecon Tablet                                                                          </td><td>bottle of 60 tablets                 </td><td>4.1</td><td>140 ratings </td><td>125 </td><td>₹130 </td><td>4% off </td></tr>\n",
              "\t<tr><td>SBL Gymnema Sylvestre Mother Tincture Q                                                           </td><td>bottle of 30 ml Mother Tincture      </td><td>4.6</td><td>200 ratings </td><td>95  </td><td>₹105 </td><td>9% off </td></tr>\n",
              "\t<tr><td>SBL Diaboherb Capsule                                                                             </td><td>box of 100 capsules                  </td><td>4.2</td><td>41 ratings  </td><td>380 </td><td>₹450 </td><td>15% off</td></tr>\n",
              "\t<tr><td><span style=white-space:pre-wrap>Dabur Vasant Kusumakar Ras with Gold &amp; Pearl Tablet                                               </span></td><td><span style=white-space:pre-wrap>bottle of 10 tablets                 </span></td><td>4.2</td><td>134 ratings </td><td>564 </td><td>₹700 </td><td>19% off</td></tr>\n",
              "\t<tr><td>Baidyanath Mahayograj Guggulu Tablet                                                              </td><td>strip of 40 tablets                  </td><td>4.2</td><td>142 ratings </td><td>205 </td><td>₹228 </td><td>10% off</td></tr>\n",
              "\t<tr><td>Baidyanath Laxmivilas Ras Tablet                                                                  </td><td>bottle of 40 tablets                 </td><td>4.3</td><td>144 ratings </td><td>132 </td><td>₹147 </td><td>10% off</td></tr>\n",
              "\t<tr><td>So Sweet Stevia Sugar Free Tablet                                                                 </td><td>bottle of 500 tablets                </td><td>4  </td><td>177 ratings </td><td>390 </td><td>₹450 </td><td>13% off</td></tr>\n",
              "\t<tr><td>Baidyanath Madhumehari Controls Blood Glucose Levels Naturally                                    </td><td>bottle of 200 gm Powder              </td><td>4.4</td><td>131 ratings </td><td>322 </td><td>₹350 </td><td>8% off </td></tr>\n",
              "\t<tr><td>ADEL 18 Glucorect Drop                                                                            </td><td>bottle of 20 ml Drop                 </td><td>4.4</td><td>88 ratings  </td><td>295 </td><td>₹105 </td><td>17% off</td></tr>\n",
              "\t<tr><td>SBL Cephalandra Indica Mother Tincture Q                                                          </td><td>bottle of 30 ml Mother Tincture      </td><td>4.7</td><td>139 ratings </td><td>87  </td><td>₹5830</td><td>27% off</td></tr>\n",
              "\t<tr><td><span style=white-space:pre-wrap>Dabur Vasant Kusumakar Ras with Gold &amp; Pearl Tablet                                               </span></td><td><span style=white-space:pre-wrap>bottle of 100 tablets                </span></td><td>4.2</td><td>134 ratings </td><td>4227</td><td>₹360 </td><td>20% off</td></tr>\n",
              "\t<tr><td>Dabur GlycoDab Tablet                                                                             </td><td>bottle of 60 tablets                 </td><td>4.2</td><td>136 ratings </td><td>286 </td><td>₹2120</td><td>10% off</td></tr>\n",
              "\t<tr><td><span style=white-space:pre-wrap>Dabur Vasant Kusumakar Ras with Gold &amp; Pearl Tablet                                               </span></td><td><span style=white-space:pre-wrap>bottle of 30 tablets                 </span></td><td>4.2</td><td>134 ratings </td><td>1908</td><td>₹255 </td><td>8% off </td></tr>\n",
              "\t<tr><td>Dr. Reckeweg Syzygium Jamb Mother Tincture Q                                                      </td><td>bottle of 20 ml Mother Tincture      </td><td>4.7</td><td>95 ratings  </td><td>234 </td><td>₹150 </td><td>20% off</td></tr>\n",
              "\t<tr><td>Sri Sri Tattva Nishamalaki Tablet                                                                 </td><td>bottle of 60 tablets                 </td><td>4.5</td><td>105 ratings </td><td>120 </td><td>₹147 </td><td>10% off</td></tr>\n",
              "\t<tr><td>Baidyanath Laxmivilas Ras Tablet                                                                  </td><td>bottle of 40 tablets                 </td><td>4.3</td><td>144 ratings </td><td>132 </td><td>₹225 </td><td>15% off</td></tr>\n",
              "\t<tr><td>Bjain Syzygium Jambolanum Mother Tincture Q                                                       </td><td>bottle of 100 ml Mother Tincture     </td><td>4.7</td><td>138 ratings </td><td>190 </td><td>₹440 </td><td>9% off </td></tr>\n",
              "\t<tr><td>Dhootapapeshwar Shilapravang (with Mouktik) Tablet                                                </td><td>bottle of 100 tablets                </td><td>4.1</td><td>57 ratings  </td><td>397 </td><td>₹232 </td><td>14% off</td></tr>\n",
              "\t<tr><td>Berbeshine Tablet                                                                                 </td><td>strip of 10 tablets                  </td><td>4.2</td><td>49 ratings  </td><td>199 </td><td>₹183 </td><td>8% off </td></tr>\n",
              "\t<tr><td>Baidyanath Sariwadi Bati                                                                          </td><td>bottle of 30 tablets                 </td><td>4.6</td><td>82 ratings  </td><td>168 </td><td>₹155 </td><td>5% off </td></tr>\n",
              "\t<tr><td>SBL Dibonil Tablet                                                                                </td><td>bottle of 25 gm Tablet               </td><td>4.5</td><td>75 ratings  </td><td>147 </td><td>₹165 </td><td>9% off </td></tr>\n",
              "\t<tr><td>Dr Willmar Schwabe India Syzygium Jambolanum Trituration Tablet 1X                                </td><td>bottle of 20 gm Trituration Tablet   </td><td>4.6</td><td>95 ratings  </td><td>149 </td><td>₹105 </td><td>3% off </td></tr>\n",
              "\t<tr><td>SBL Abroma Augusta Mother Tincture Q                                                              </td><td>bottle of 30 ml Mother Tincture      </td><td>4.1</td><td>281 ratings </td><td>102 </td><td>₹1600</td><td>17% off</td></tr>\n",
              "\t<tr><td>Baidyanath Basant Kusumakar Ras (S.C.M.Yu) with Gold, Silver &amp; Pearl Maintains Blood Glucose Level</td><td><span style=white-space:pre-wrap>bottle of 25 tablets                 </span></td><td>4.2</td><td>126 ratings </td><td>1328</td><td>₹415 </td><td>10% off</td></tr>\n",
              "\t<tr><td>Dabur Madhu Rakshak                                                                               </td><td>bottle of 250 gm Powder              </td><td>4.6</td><td>61 ratings  </td><td>374 </td><td>₹105 </td><td>3% off </td></tr>\n",
              "\t<tr><td>SBL Bio-Combination 7 Tablet                                                                      </td><td>bottle of 25 gm Biocombination Tablet</td><td>4.5</td><td>71 ratings  </td><td>102 </td><td>₹155 </td><td>14% off</td></tr>\n",
              "\t<tr><td>Bakson's Diab Aid Drop                                                                            </td><td>bottle of 30 ml Drop                 </td><td>4.4</td><td>27 ratings  </td><td>133 </td><td>₹330 </td><td>18% off</td></tr>\n",
              "\t<tr><td>SBL Ceanothus Americanus Mother Tincture Q                                                        </td><td>bottle of 30 ml Mother Tincture      </td><td>4.4</td><td>99 ratings  </td><td>270 </td><td>₹100 </td><td>3% off </td></tr>\n",
              "\t<tr><td>Himalaya Koflet-SF Linctus                                                                        </td><td>bottle of 100 ml Linctus             </td><td>4.4</td><td>131 ratings </td><td>97  </td><td>₹350 </td><td>8% off </td></tr>\n",
              "\t<tr><td>Baidyanath Madhumehari Controls Blood Glucose Levels Naturally                                    </td><td>bottle of 200 gm Powder              </td><td>4.4</td><td>20 ratings  </td><td>322 </td><td>₹575 </td><td>4% off </td></tr>\n",
              "\t<tr><td>Alma Sugar Free Tablet Low Calorie Sweetener                                                      </td><td>bottle of 650 tablets                </td><td>4.1</td><td>39 ratings  </td><td>549 </td><td>₹1800</td><td>17% off</td></tr>\n",
              "\t<tr><td>Jain Ashwagandha (Withania Somnifera) 850mg Tablet                                                </td><td>box of 1000 tablets                  </td><td>4.3</td><td>24 ratings  </td><td>1486</td><td>₹270 </td><td>10% off</td></tr>\n",
              "\t<tr><td>ADEL Acid Phos Mother Tincture Q                                                                  </td><td>bottle of 20 ml Mother Tincture      </td><td>3.5</td><td>128 ratings </td><td>243 </td><td>₹120 </td><td>2% off </td></tr>\n",
              "\t<tr><td>So Sweet Stevia Sugar Free Tablet                                                                 </td><td>packet of 100 tablets                </td><td>4.7</td><td>39 ratings  </td><td>117 </td><td>₹185 </td><td>6% off </td></tr>\n",
              "\t<tr><td>Dr. Reckeweg Bio-Combination 7 (BC 7) Tablet                                                      </td><td>bottle of 20 gm Biocombination Tablet</td><td>4.7</td><td>48 ratings  </td><td>173 </td><td>₹135 </td><td>3% off </td></tr>\n",
              "\t<tr><td>Dr Willmar Schwabe India Uranium Nitricum Trituration Tablet 4X                                   </td><td>bottle of 20 gm Trituration Tablet   </td><td>4.6</td><td>11 ratings  </td><td>131 </td><td>₹525 </td><td>7% off </td></tr>\n",
              "\t<tr><td>Dr. Reckeweg Gymnema Syl Mother Tincture Q                                                        </td><td>bottle of 20 ml Mother Tincture      </td><td>3.7</td><td>17 ratings  </td><td>255 </td><td>NA   </td><td>NA     </td></tr>\n",
              "\t<tr><td>Dr. Reckeweg Diabetic Care Combo (R40 + Syzygium Jamb Mother Tincture)                            </td><td>packet of 1 Kit                      </td><td>NA </td><td>NA          </td><td>489 </td><td>NA   </td><td>NA     </td></tr>\n",
              "</tbody>\n",
              "</table>\n"
            ],
            "text/markdown": "\nA data.frame: 49 × 7\n\n| name &lt;chr&gt; | description &lt;chr&gt; | rating &lt;chr&gt; | no_of_rating &lt;chr&gt; | offer_price &lt;chr&gt; | mrp &lt;chr&gt; | discount &lt;chr&gt; |\n|---|---|---|---|---|---|---|\n| Bgr 34 Tablet                                                                                      | bottle of 100 tablets                 | 4.2 | 1378 ratings | 400  | ₹600  | 33% off |\n| Dr. Reckeweg R40 Diabetes Drop Homeopathic Medicine                                                | bottle of 22 ml Drop                  | 4.6 | 274 ratings  | 243  | ₹270  | 10% off |\n| Dabur Vasant Kusumakar Ras with Gold &amp; Pearl Tablet                                                | bottle of 30 tablets                  | 4.2 | 134 ratings  | 1908 | ₹2120 | 10% off |\n| SBL Syzygium Jambolanum Mother Tincture Q                                                          | bottle of 30 ml Mother Tincture       | 4.6 | 517 ratings  | 87   | ₹105  | 17% off |\n| Dhootapapeshwar Madhumeha Kusumakar Rasa                                                           | box of 30 tablets                     | 4.3 | 195 ratings  | 770  | ₹855  | 10% off |\n| Sugar Free Green Stevia Pellets                                                                    | bottle of 300 pellets                 | 4.3 | 870 ratings  | 175  | ₹215  | 18% off |\n| Dabur Vasant Kusumakar Ras with Gold &amp; Pearl Tablet                                                | bottle of 100 tablets                 | 4.2 | 134 ratings  | 4227 | ₹5830 | 27% off |\n| IME 9 Tablet                                                                                       | bottle of 60 tablets                  | 4.1 | 954 ratings  | 311  | ₹345  | 10% off |\n| Dabur GlycoDab Tablet                                                                              | bottle of 60 tablets                  | 4.2 | 136 ratings  | 286  | ₹360  | 20% off |\n| SBL Dibonil Drop                                                                                   | bottle of 30 ml Drop                  | 4.5 | 337 ratings  | 117  | ₹130  | 10% off |\n| Baidyanath Mahayograj Guggulu Tablet                                                               | strip of 40 tablets                   | 4.2 | 142 ratings  | 205  | ₹228  | 10% off |\n| Himalaya Diabecon Tablet                                                                           | bottle of 60 tablets                  | 4.1 | 140 ratings  | 125  | ₹130  | 4% off  |\n| SBL Gymnema Sylvestre Mother Tincture Q                                                            | bottle of 30 ml Mother Tincture       | 4.6 | 200 ratings  | 95   | ₹105  | 9% off  |\n| SBL Diaboherb Capsule                                                                              | box of 100 capsules                   | 4.2 | 41 ratings   | 380  | ₹450  | 15% off |\n| Dabur Vasant Kusumakar Ras with Gold &amp; Pearl Tablet                                                | bottle of 10 tablets                  | 4.2 | 134 ratings  | 564  | ₹700  | 19% off |\n| Baidyanath Mahayograj Guggulu Tablet                                                               | strip of 40 tablets                   | 4.2 | 142 ratings  | 205  | ₹228  | 10% off |\n| Baidyanath Laxmivilas Ras Tablet                                                                   | bottle of 40 tablets                  | 4.3 | 144 ratings  | 132  | ₹147  | 10% off |\n| So Sweet Stevia Sugar Free Tablet                                                                  | bottle of 500 tablets                 | 4   | 177 ratings  | 390  | ₹450  | 13% off |\n| Baidyanath Madhumehari Controls Blood Glucose Levels Naturally                                     | bottle of 200 gm Powder               | 4.4 | 131 ratings  | 322  | ₹350  | 8% off  |\n| ADEL 18 Glucorect Drop                                                                             | bottle of 20 ml Drop                  | 4.4 | 88 ratings   | 295  | ₹105  | 17% off |\n| SBL Cephalandra Indica Mother Tincture Q                                                           | bottle of 30 ml Mother Tincture       | 4.7 | 139 ratings  | 87   | ₹5830 | 27% off |\n| Dabur Vasant Kusumakar Ras with Gold &amp; Pearl Tablet                                                | bottle of 100 tablets                 | 4.2 | 134 ratings  | 4227 | ₹360  | 20% off |\n| Dabur GlycoDab Tablet                                                                              | bottle of 60 tablets                  | 4.2 | 136 ratings  | 286  | ₹2120 | 10% off |\n| Dabur Vasant Kusumakar Ras with Gold &amp; Pearl Tablet                                                | bottle of 30 tablets                  | 4.2 | 134 ratings  | 1908 | ₹255  | 8% off  |\n| Dr. Reckeweg Syzygium Jamb Mother Tincture Q                                                       | bottle of 20 ml Mother Tincture       | 4.7 | 95 ratings   | 234  | ₹150  | 20% off |\n| Sri Sri Tattva Nishamalaki Tablet                                                                  | bottle of 60 tablets                  | 4.5 | 105 ratings  | 120  | ₹147  | 10% off |\n| Baidyanath Laxmivilas Ras Tablet                                                                   | bottle of 40 tablets                  | 4.3 | 144 ratings  | 132  | ₹225  | 15% off |\n| Bjain Syzygium Jambolanum Mother Tincture Q                                                        | bottle of 100 ml Mother Tincture      | 4.7 | 138 ratings  | 190  | ₹440  | 9% off  |\n| Dhootapapeshwar Shilapravang (with Mouktik) Tablet                                                 | bottle of 100 tablets                 | 4.1 | 57 ratings   | 397  | ₹232  | 14% off |\n| Berbeshine Tablet                                                                                  | strip of 10 tablets                   | 4.2 | 49 ratings   | 199  | ₹183  | 8% off  |\n| Baidyanath Sariwadi Bati                                                                           | bottle of 30 tablets                  | 4.6 | 82 ratings   | 168  | ₹155  | 5% off  |\n| SBL Dibonil Tablet                                                                                 | bottle of 25 gm Tablet                | 4.5 | 75 ratings   | 147  | ₹165  | 9% off  |\n| Dr Willmar Schwabe India Syzygium Jambolanum Trituration Tablet 1X                                 | bottle of 20 gm Trituration Tablet    | 4.6 | 95 ratings   | 149  | ₹105  | 3% off  |\n| SBL Abroma Augusta Mother Tincture Q                                                               | bottle of 30 ml Mother Tincture       | 4.1 | 281 ratings  | 102  | ₹1600 | 17% off |\n| Baidyanath Basant Kusumakar Ras (S.C.M.Yu) with Gold, Silver &amp; Pearl Maintains Blood Glucose Level | bottle of 25 tablets                  | 4.2 | 126 ratings  | 1328 | ₹415  | 10% off |\n| Dabur Madhu Rakshak                                                                                | bottle of 250 gm Powder               | 4.6 | 61 ratings   | 374  | ₹105  | 3% off  |\n| SBL Bio-Combination 7 Tablet                                                                       | bottle of 25 gm Biocombination Tablet | 4.5 | 71 ratings   | 102  | ₹155  | 14% off |\n| Bakson's Diab Aid Drop                                                                             | bottle of 30 ml Drop                  | 4.4 | 27 ratings   | 133  | ₹330  | 18% off |\n| SBL Ceanothus Americanus Mother Tincture Q                                                         | bottle of 30 ml Mother Tincture       | 4.4 | 99 ratings   | 270  | ₹100  | 3% off  |\n| Himalaya Koflet-SF Linctus                                                                         | bottle of 100 ml Linctus              | 4.4 | 131 ratings  | 97   | ₹350  | 8% off  |\n| Baidyanath Madhumehari Controls Blood Glucose Levels Naturally                                     | bottle of 200 gm Powder               | 4.4 | 20 ratings   | 322  | ₹575  | 4% off  |\n| Alma Sugar Free Tablet Low Calorie Sweetener                                                       | bottle of 650 tablets                 | 4.1 | 39 ratings   | 549  | ₹1800 | 17% off |\n| Jain Ashwagandha (Withania Somnifera) 850mg Tablet                                                 | box of 1000 tablets                   | 4.3 | 24 ratings   | 1486 | ₹270  | 10% off |\n| ADEL Acid Phos Mother Tincture Q                                                                   | bottle of 20 ml Mother Tincture       | 3.5 | 128 ratings  | 243  | ₹120  | 2% off  |\n| So Sweet Stevia Sugar Free Tablet                                                                  | packet of 100 tablets                 | 4.7 | 39 ratings   | 117  | ₹185  | 6% off  |\n| Dr. Reckeweg Bio-Combination 7 (BC 7) Tablet                                                       | bottle of 20 gm Biocombination Tablet | 4.7 | 48 ratings   | 173  | ₹135  | 3% off  |\n| Dr Willmar Schwabe India Uranium Nitricum Trituration Tablet 4X                                    | bottle of 20 gm Trituration Tablet    | 4.6 | 11 ratings   | 131  | ₹525  | 7% off  |\n| Dr. Reckeweg Gymnema Syl Mother Tincture Q                                                         | bottle of 20 ml Mother Tincture       | 3.7 | 17 ratings   | 255  | NA    | NA      |\n| Dr. Reckeweg Diabetic Care Combo (R40 + Syzygium Jamb Mother Tincture)                             | packet of 1 Kit                       | NA  | NA           | 489  | NA    | NA      |\n\n",
            "text/latex": "A data.frame: 49 × 7\n\\begin{tabular}{lllllll}\n name & description & rating & no\\_of\\_rating & offer\\_price & mrp & discount\\\\\n <chr> & <chr> & <chr> & <chr> & <chr> & <chr> & <chr>\\\\\n\\hline\n\t Bgr 34 Tablet                                                                                      & bottle of 100 tablets                 & 4.2 & 1378 ratings & 400  & ₹600  & 33\\% off\\\\\n\t Dr. Reckeweg R40 Diabetes Drop Homeopathic Medicine                                                & bottle of 22 ml Drop                  & 4.6 & 274 ratings  & 243  & ₹270  & 10\\% off\\\\\n\t Dabur Vasant Kusumakar Ras with Gold \\& Pearl Tablet                                                & bottle of 30 tablets                  & 4.2 & 134 ratings  & 1908 & ₹2120 & 10\\% off\\\\\n\t SBL Syzygium Jambolanum Mother Tincture Q                                                          & bottle of 30 ml Mother Tincture       & 4.6 & 517 ratings  & 87   & ₹105  & 17\\% off\\\\\n\t Dhootapapeshwar Madhumeha Kusumakar Rasa                                                           & box of 30 tablets                     & 4.3 & 195 ratings  & 770  & ₹855  & 10\\% off\\\\\n\t Sugar Free Green Stevia Pellets                                                                    & bottle of 300 pellets                 & 4.3 & 870 ratings  & 175  & ₹215  & 18\\% off\\\\\n\t Dabur Vasant Kusumakar Ras with Gold \\& Pearl Tablet                                                & bottle of 100 tablets                 & 4.2 & 134 ratings  & 4227 & ₹5830 & 27\\% off\\\\\n\t IME 9 Tablet                                                                                       & bottle of 60 tablets                  & 4.1 & 954 ratings  & 311  & ₹345  & 10\\% off\\\\\n\t Dabur GlycoDab Tablet                                                                              & bottle of 60 tablets                  & 4.2 & 136 ratings  & 286  & ₹360  & 20\\% off\\\\\n\t SBL Dibonil Drop                                                                                   & bottle of 30 ml Drop                  & 4.5 & 337 ratings  & 117  & ₹130  & 10\\% off\\\\\n\t Baidyanath Mahayograj Guggulu Tablet                                                               & strip of 40 tablets                   & 4.2 & 142 ratings  & 205  & ₹228  & 10\\% off\\\\\n\t Himalaya Diabecon Tablet                                                                           & bottle of 60 tablets                  & 4.1 & 140 ratings  & 125  & ₹130  & 4\\% off \\\\\n\t SBL Gymnema Sylvestre Mother Tincture Q                                                            & bottle of 30 ml Mother Tincture       & 4.6 & 200 ratings  & 95   & ₹105  & 9\\% off \\\\\n\t SBL Diaboherb Capsule                                                                              & box of 100 capsules                   & 4.2 & 41 ratings   & 380  & ₹450  & 15\\% off\\\\\n\t Dabur Vasant Kusumakar Ras with Gold \\& Pearl Tablet                                                & bottle of 10 tablets                  & 4.2 & 134 ratings  & 564  & ₹700  & 19\\% off\\\\\n\t Baidyanath Mahayograj Guggulu Tablet                                                               & strip of 40 tablets                   & 4.2 & 142 ratings  & 205  & ₹228  & 10\\% off\\\\\n\t Baidyanath Laxmivilas Ras Tablet                                                                   & bottle of 40 tablets                  & 4.3 & 144 ratings  & 132  & ₹147  & 10\\% off\\\\\n\t So Sweet Stevia Sugar Free Tablet                                                                  & bottle of 500 tablets                 & 4   & 177 ratings  & 390  & ₹450  & 13\\% off\\\\\n\t Baidyanath Madhumehari Controls Blood Glucose Levels Naturally                                     & bottle of 200 gm Powder               & 4.4 & 131 ratings  & 322  & ₹350  & 8\\% off \\\\\n\t ADEL 18 Glucorect Drop                                                                             & bottle of 20 ml Drop                  & 4.4 & 88 ratings   & 295  & ₹105  & 17\\% off\\\\\n\t SBL Cephalandra Indica Mother Tincture Q                                                           & bottle of 30 ml Mother Tincture       & 4.7 & 139 ratings  & 87   & ₹5830 & 27\\% off\\\\\n\t Dabur Vasant Kusumakar Ras with Gold \\& Pearl Tablet                                                & bottle of 100 tablets                 & 4.2 & 134 ratings  & 4227 & ₹360  & 20\\% off\\\\\n\t Dabur GlycoDab Tablet                                                                              & bottle of 60 tablets                  & 4.2 & 136 ratings  & 286  & ₹2120 & 10\\% off\\\\\n\t Dabur Vasant Kusumakar Ras with Gold \\& Pearl Tablet                                                & bottle of 30 tablets                  & 4.2 & 134 ratings  & 1908 & ₹255  & 8\\% off \\\\\n\t Dr. Reckeweg Syzygium Jamb Mother Tincture Q                                                       & bottle of 20 ml Mother Tincture       & 4.7 & 95 ratings   & 234  & ₹150  & 20\\% off\\\\\n\t Sri Sri Tattva Nishamalaki Tablet                                                                  & bottle of 60 tablets                  & 4.5 & 105 ratings  & 120  & ₹147  & 10\\% off\\\\\n\t Baidyanath Laxmivilas Ras Tablet                                                                   & bottle of 40 tablets                  & 4.3 & 144 ratings  & 132  & ₹225  & 15\\% off\\\\\n\t Bjain Syzygium Jambolanum Mother Tincture Q                                                        & bottle of 100 ml Mother Tincture      & 4.7 & 138 ratings  & 190  & ₹440  & 9\\% off \\\\\n\t Dhootapapeshwar Shilapravang (with Mouktik) Tablet                                                 & bottle of 100 tablets                 & 4.1 & 57 ratings   & 397  & ₹232  & 14\\% off\\\\\n\t Berbeshine Tablet                                                                                  & strip of 10 tablets                   & 4.2 & 49 ratings   & 199  & ₹183  & 8\\% off \\\\\n\t Baidyanath Sariwadi Bati                                                                           & bottle of 30 tablets                  & 4.6 & 82 ratings   & 168  & ₹155  & 5\\% off \\\\\n\t SBL Dibonil Tablet                                                                                 & bottle of 25 gm Tablet                & 4.5 & 75 ratings   & 147  & ₹165  & 9\\% off \\\\\n\t Dr Willmar Schwabe India Syzygium Jambolanum Trituration Tablet 1X                                 & bottle of 20 gm Trituration Tablet    & 4.6 & 95 ratings   & 149  & ₹105  & 3\\% off \\\\\n\t SBL Abroma Augusta Mother Tincture Q                                                               & bottle of 30 ml Mother Tincture       & 4.1 & 281 ratings  & 102  & ₹1600 & 17\\% off\\\\\n\t Baidyanath Basant Kusumakar Ras (S.C.M.Yu) with Gold, Silver \\& Pearl Maintains Blood Glucose Level & bottle of 25 tablets                  & 4.2 & 126 ratings  & 1328 & ₹415  & 10\\% off\\\\\n\t Dabur Madhu Rakshak                                                                                & bottle of 250 gm Powder               & 4.6 & 61 ratings   & 374  & ₹105  & 3\\% off \\\\\n\t SBL Bio-Combination 7 Tablet                                                                       & bottle of 25 gm Biocombination Tablet & 4.5 & 71 ratings   & 102  & ₹155  & 14\\% off\\\\\n\t Bakson's Diab Aid Drop                                                                             & bottle of 30 ml Drop                  & 4.4 & 27 ratings   & 133  & ₹330  & 18\\% off\\\\\n\t SBL Ceanothus Americanus Mother Tincture Q                                                         & bottle of 30 ml Mother Tincture       & 4.4 & 99 ratings   & 270  & ₹100  & 3\\% off \\\\\n\t Himalaya Koflet-SF Linctus                                                                         & bottle of 100 ml Linctus              & 4.4 & 131 ratings  & 97   & ₹350  & 8\\% off \\\\\n\t Baidyanath Madhumehari Controls Blood Glucose Levels Naturally                                     & bottle of 200 gm Powder               & 4.4 & 20 ratings   & 322  & ₹575  & 4\\% off \\\\\n\t Alma Sugar Free Tablet Low Calorie Sweetener                                                       & bottle of 650 tablets                 & 4.1 & 39 ratings   & 549  & ₹1800 & 17\\% off\\\\\n\t Jain Ashwagandha (Withania Somnifera) 850mg Tablet                                                 & box of 1000 tablets                   & 4.3 & 24 ratings   & 1486 & ₹270  & 10\\% off\\\\\n\t ADEL Acid Phos Mother Tincture Q                                                                   & bottle of 20 ml Mother Tincture       & 3.5 & 128 ratings  & 243  & ₹120  & 2\\% off \\\\\n\t So Sweet Stevia Sugar Free Tablet                                                                  & packet of 100 tablets                 & 4.7 & 39 ratings   & 117  & ₹185  & 6\\% off \\\\\n\t Dr. Reckeweg Bio-Combination 7 (BC 7) Tablet                                                       & bottle of 20 gm Biocombination Tablet & 4.7 & 48 ratings   & 173  & ₹135  & 3\\% off \\\\\n\t Dr Willmar Schwabe India Uranium Nitricum Trituration Tablet 4X                                    & bottle of 20 gm Trituration Tablet    & 4.6 & 11 ratings   & 131  & ₹525  & 7\\% off \\\\\n\t Dr. Reckeweg Gymnema Syl Mother Tincture Q                                                         & bottle of 20 ml Mother Tincture       & 3.7 & 17 ratings   & 255  & NA    & NA     \\\\\n\t Dr. Reckeweg Diabetic Care Combo (R40 + Syzygium Jamb Mother Tincture)                             & packet of 1 Kit                       & NA  & NA           & 489  & NA    & NA     \\\\\n\\end{tabular}\n",
            "text/plain": [
              "   name                                                                                              \n",
              "1  Bgr 34 Tablet                                                                                     \n",
              "2  Dr. Reckeweg R40 Diabetes Drop Homeopathic Medicine                                               \n",
              "3  Dabur Vasant Kusumakar Ras with Gold & Pearl Tablet                                               \n",
              "4  SBL Syzygium Jambolanum Mother Tincture Q                                                         \n",
              "5  Dhootapapeshwar Madhumeha Kusumakar Rasa                                                          \n",
              "6  Sugar Free Green Stevia Pellets                                                                   \n",
              "7  Dabur Vasant Kusumakar Ras with Gold & Pearl Tablet                                               \n",
              "8  IME 9 Tablet                                                                                      \n",
              "9  Dabur GlycoDab Tablet                                                                             \n",
              "10 SBL Dibonil Drop                                                                                  \n",
              "11 Baidyanath Mahayograj Guggulu Tablet                                                              \n",
              "12 Himalaya Diabecon Tablet                                                                          \n",
              "13 SBL Gymnema Sylvestre Mother Tincture Q                                                           \n",
              "14 SBL Diaboherb Capsule                                                                             \n",
              "15 Dabur Vasant Kusumakar Ras with Gold & Pearl Tablet                                               \n",
              "16 Baidyanath Mahayograj Guggulu Tablet                                                              \n",
              "17 Baidyanath Laxmivilas Ras Tablet                                                                  \n",
              "18 So Sweet Stevia Sugar Free Tablet                                                                 \n",
              "19 Baidyanath Madhumehari Controls Blood Glucose Levels Naturally                                    \n",
              "20 ADEL 18 Glucorect Drop                                                                            \n",
              "21 SBL Cephalandra Indica Mother Tincture Q                                                          \n",
              "22 Dabur Vasant Kusumakar Ras with Gold & Pearl Tablet                                               \n",
              "23 Dabur GlycoDab Tablet                                                                             \n",
              "24 Dabur Vasant Kusumakar Ras with Gold & Pearl Tablet                                               \n",
              "25 Dr. Reckeweg Syzygium Jamb Mother Tincture Q                                                      \n",
              "26 Sri Sri Tattva Nishamalaki Tablet                                                                 \n",
              "27 Baidyanath Laxmivilas Ras Tablet                                                                  \n",
              "28 Bjain Syzygium Jambolanum Mother Tincture Q                                                       \n",
              "29 Dhootapapeshwar Shilapravang (with Mouktik) Tablet                                                \n",
              "30 Berbeshine Tablet                                                                                 \n",
              "31 Baidyanath Sariwadi Bati                                                                          \n",
              "32 SBL Dibonil Tablet                                                                                \n",
              "33 Dr Willmar Schwabe India Syzygium Jambolanum Trituration Tablet 1X                                \n",
              "34 SBL Abroma Augusta Mother Tincture Q                                                              \n",
              "35 Baidyanath Basant Kusumakar Ras (S.C.M.Yu) with Gold, Silver & Pearl Maintains Blood Glucose Level\n",
              "36 Dabur Madhu Rakshak                                                                               \n",
              "37 SBL Bio-Combination 7 Tablet                                                                      \n",
              "38 Bakson's Diab Aid Drop                                                                            \n",
              "39 SBL Ceanothus Americanus Mother Tincture Q                                                        \n",
              "40 Himalaya Koflet-SF Linctus                                                                        \n",
              "41 Baidyanath Madhumehari Controls Blood Glucose Levels Naturally                                    \n",
              "42 Alma Sugar Free Tablet Low Calorie Sweetener                                                      \n",
              "43 Jain Ashwagandha (Withania Somnifera) 850mg Tablet                                                \n",
              "44 ADEL Acid Phos Mother Tincture Q                                                                  \n",
              "45 So Sweet Stevia Sugar Free Tablet                                                                 \n",
              "46 Dr. Reckeweg Bio-Combination 7 (BC 7) Tablet                                                      \n",
              "47 Dr Willmar Schwabe India Uranium Nitricum Trituration Tablet 4X                                   \n",
              "48 Dr. Reckeweg Gymnema Syl Mother Tincture Q                                                        \n",
              "49 Dr. Reckeweg Diabetic Care Combo (R40 + Syzygium Jamb Mother Tincture)                            \n",
              "   description                           rating no_of_rating offer_price mrp  \n",
              "1  bottle of 100 tablets                 4.2    1378 ratings 400         ₹600 \n",
              "2  bottle of 22 ml Drop                  4.6    274 ratings  243         ₹270 \n",
              "3  bottle of 30 tablets                  4.2    134 ratings  1908        ₹2120\n",
              "4  bottle of 30 ml Mother Tincture       4.6    517 ratings  87          ₹105 \n",
              "5  box of 30 tablets                     4.3    195 ratings  770         ₹855 \n",
              "6  bottle of 300 pellets                 4.3    870 ratings  175         ₹215 \n",
              "7  bottle of 100 tablets                 4.2    134 ratings  4227        ₹5830\n",
              "8  bottle of 60 tablets                  4.1    954 ratings  311         ₹345 \n",
              "9  bottle of 60 tablets                  4.2    136 ratings  286         ₹360 \n",
              "10 bottle of 30 ml Drop                  4.5    337 ratings  117         ₹130 \n",
              "11 strip of 40 tablets                   4.2    142 ratings  205         ₹228 \n",
              "12 bottle of 60 tablets                  4.1    140 ratings  125         ₹130 \n",
              "13 bottle of 30 ml Mother Tincture       4.6    200 ratings  95          ₹105 \n",
              "14 box of 100 capsules                   4.2    41 ratings   380         ₹450 \n",
              "15 bottle of 10 tablets                  4.2    134 ratings  564         ₹700 \n",
              "16 strip of 40 tablets                   4.2    142 ratings  205         ₹228 \n",
              "17 bottle of 40 tablets                  4.3    144 ratings  132         ₹147 \n",
              "18 bottle of 500 tablets                 4      177 ratings  390         ₹450 \n",
              "19 bottle of 200 gm Powder               4.4    131 ratings  322         ₹350 \n",
              "20 bottle of 20 ml Drop                  4.4    88 ratings   295         ₹105 \n",
              "21 bottle of 30 ml Mother Tincture       4.7    139 ratings  87          ₹5830\n",
              "22 bottle of 100 tablets                 4.2    134 ratings  4227        ₹360 \n",
              "23 bottle of 60 tablets                  4.2    136 ratings  286         ₹2120\n",
              "24 bottle of 30 tablets                  4.2    134 ratings  1908        ₹255 \n",
              "25 bottle of 20 ml Mother Tincture       4.7    95 ratings   234         ₹150 \n",
              "26 bottle of 60 tablets                  4.5    105 ratings  120         ₹147 \n",
              "27 bottle of 40 tablets                  4.3    144 ratings  132         ₹225 \n",
              "28 bottle of 100 ml Mother Tincture      4.7    138 ratings  190         ₹440 \n",
              "29 bottle of 100 tablets                 4.1    57 ratings   397         ₹232 \n",
              "30 strip of 10 tablets                   4.2    49 ratings   199         ₹183 \n",
              "31 bottle of 30 tablets                  4.6    82 ratings   168         ₹155 \n",
              "32 bottle of 25 gm Tablet                4.5    75 ratings   147         ₹165 \n",
              "33 bottle of 20 gm Trituration Tablet    4.6    95 ratings   149         ₹105 \n",
              "34 bottle of 30 ml Mother Tincture       4.1    281 ratings  102         ₹1600\n",
              "35 bottle of 25 tablets                  4.2    126 ratings  1328        ₹415 \n",
              "36 bottle of 250 gm Powder               4.6    61 ratings   374         ₹105 \n",
              "37 bottle of 25 gm Biocombination Tablet 4.5    71 ratings   102         ₹155 \n",
              "38 bottle of 30 ml Drop                  4.4    27 ratings   133         ₹330 \n",
              "39 bottle of 30 ml Mother Tincture       4.4    99 ratings   270         ₹100 \n",
              "40 bottle of 100 ml Linctus              4.4    131 ratings  97          ₹350 \n",
              "41 bottle of 200 gm Powder               4.4    20 ratings   322         ₹575 \n",
              "42 bottle of 650 tablets                 4.1    39 ratings   549         ₹1800\n",
              "43 box of 1000 tablets                   4.3    24 ratings   1486        ₹270 \n",
              "44 bottle of 20 ml Mother Tincture       3.5    128 ratings  243         ₹120 \n",
              "45 packet of 100 tablets                 4.7    39 ratings   117         ₹185 \n",
              "46 bottle of 20 gm Biocombination Tablet 4.7    48 ratings   173         ₹135 \n",
              "47 bottle of 20 gm Trituration Tablet    4.6    11 ratings   131         ₹525 \n",
              "48 bottle of 20 ml Mother Tincture       3.7    17 ratings   255         NA   \n",
              "49 packet of 1 Kit                       NA     NA           489         NA   \n",
              "   discount\n",
              "1  33% off \n",
              "2  10% off \n",
              "3  10% off \n",
              "4  17% off \n",
              "5  10% off \n",
              "6  18% off \n",
              "7  27% off \n",
              "8  10% off \n",
              "9  20% off \n",
              "10 10% off \n",
              "11 10% off \n",
              "12 4% off  \n",
              "13 9% off  \n",
              "14 15% off \n",
              "15 19% off \n",
              "16 10% off \n",
              "17 10% off \n",
              "18 13% off \n",
              "19 8% off  \n",
              "20 17% off \n",
              "21 27% off \n",
              "22 20% off \n",
              "23 10% off \n",
              "24 8% off  \n",
              "25 20% off \n",
              "26 10% off \n",
              "27 15% off \n",
              "28 9% off  \n",
              "29 14% off \n",
              "30 8% off  \n",
              "31 5% off  \n",
              "32 9% off  \n",
              "33 3% off  \n",
              "34 17% off \n",
              "35 10% off \n",
              "36 3% off  \n",
              "37 14% off \n",
              "38 18% off \n",
              "39 3% off  \n",
              "40 8% off  \n",
              "41 4% off  \n",
              "42 17% off \n",
              "43 10% off \n",
              "44 2% off  \n",
              "45 6% off  \n",
              "46 3% off  \n",
              "47 7% off  \n",
              "48 NA      \n",
              "49 NA      "
            ]
          },
          "metadata": {}
        }
      ]
    }
  ]
}